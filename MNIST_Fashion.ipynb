{
  "nbformat": 4,
  "nbformat_minor": 0,
  "metadata": {
    "colab": {
      "name": "MNIST_Fashion.ipynb",
      "provenance": [],
      "collapsed_sections": []
    },
    "kernelspec": {
      "name": "python3",
      "display_name": "Python 3"
    },
    "accelerator": "GPU"
  },
  "cells": [
    {
      "cell_type": "code",
      "metadata": {
        "id": "7awAYJ-7y_Nq"
      },
      "source": [
        "import keras\r\n",
        "import pandas as pd\r\n",
        "import numpy as np\r\n",
        "import matplotlib.pyplot as plt\r\n",
        "from keras.layers import Dense, Dropout, Input, Conv2D, Flatten, BatchNormalization, Reshape\r\n",
        "from keras.models import Model,Sequential\r\n",
        "from keras.datasets import fashion_mnist\r\n",
        "from tqdm import tqdm\r\n",
        "from keras.layers.advanced_activations import LeakyReLU\r\n",
        "from keras.optimizers import Adam"
      ],
      "execution_count": 1,
      "outputs": []
    },
    {
      "cell_type": "code",
      "metadata": {
        "colab": {
          "base_uri": "https://localhost:8080/"
        },
        "id": "zdS84ij5zHIY",
        "outputId": "6e603af0-6db6-48d4-b428-7b010c29bd79"
      },
      "source": [
        "(x_train,y_train), (x_test, y_test) = fashion_mnist.load_data()"
      ],
      "execution_count": 2,
      "outputs": [
        {
          "output_type": "stream",
          "text": [
            "Downloading data from https://storage.googleapis.com/tensorflow/tf-keras-datasets/train-labels-idx1-ubyte.gz\n",
            "32768/29515 [=================================] - 0s 0us/step\n",
            "Downloading data from https://storage.googleapis.com/tensorflow/tf-keras-datasets/train-images-idx3-ubyte.gz\n",
            "26427392/26421880 [==============================] - 0s 0us/step\n",
            "Downloading data from https://storage.googleapis.com/tensorflow/tf-keras-datasets/t10k-labels-idx1-ubyte.gz\n",
            "8192/5148 [===============================================] - 0s 0us/step\n",
            "Downloading data from https://storage.googleapis.com/tensorflow/tf-keras-datasets/t10k-images-idx3-ubyte.gz\n",
            "4423680/4422102 [==============================] - 0s 0us/step\n"
          ],
          "name": "stdout"
        }
      ]
    },
    {
      "cell_type": "code",
      "metadata": {
        "id": "_gJCV598zQ2p"
      },
      "source": [
        "x_train = (x_train.astype(np.float32) - 127.5)/127.5"
      ],
      "execution_count": 3,
      "outputs": []
    },
    {
      "cell_type": "code",
      "metadata": {
        "colab": {
          "base_uri": "https://localhost:8080/",
          "height": 282
        },
        "id": "Z1NWrazgzUjj",
        "outputId": "a761ff99-940b-4192-b480-77cd1435dfde"
      },
      "source": [
        "plt.imshow(x_train[0], cmap='Greys')"
      ],
      "execution_count": 16,
      "outputs": [
        {
          "output_type": "execute_result",
          "data": {
            "text/plain": [
              "<matplotlib.image.AxesImage at 0x7ffaa06f0ba8>"
            ]
          },
          "metadata": {
            "tags": []
          },
          "execution_count": 16
        },
        {
          "output_type": "display_data",
          "data": {
            "image/png": "[encoded data removed]",
            "text/plain": [
              "<Figure size 432x288 with 1 Axes>"
            ]
          },
          "metadata": {
            "tags": [],
            "needs_background": "light"
          }
        }
      ]
    },
    {
      "cell_type": "code",
      "metadata": {
        "colab": {
          "base_uri": "https://localhost:8080/"
        },
        "id": "WzDpSuRqzW7K",
        "outputId": "1b6952fe-ee97-4583-9c02-b967407f8ef5"
      },
      "source": [
        "def create_generator():\r\n",
        "    generator=Sequential()\r\n",
        "    generator.add(Conv2D(64, (3,3), strides =(3,3), padding ='same', input_shape = [28,28,1]))\r\n",
        "    generator.add(BatchNormalization())\r\n",
        "    generator.add(LeakyReLU(0.2))\r\n",
        "    \r\n",
        "    generator.add(Conv2D(32, (3,3), strides =(3,3), padding ='same'))\r\n",
        "    generator.add(BatchNormalization())\r\n",
        "    generator.add(LeakyReLU(0.2))\r\n",
        "  \r\n",
        "    \r\n",
        "    generator.add(Flatten())\r\n",
        "    generator.add(Dense(units=512))\r\n",
        "    generator.add(LeakyReLU(0.2))\r\n",
        "    \r\n",
        "    generator.add(Dense(units=1024))\r\n",
        "    generator.add(LeakyReLU(0.2))\r\n",
        "    \r\n",
        "    generator.add(Dense(units=28*28, activation='tanh'))\r\n",
        "    #generator.add(Reshape((28,28)))\r\n",
        "    \r\n",
        "    generator.compile(loss='binary_crossentropy', optimizer='adam')\r\n",
        "    return generator\r\n",
        "g=create_generator()\r\n",
        "g.summary()"
      ],
      "execution_count": 7,
      "outputs": [
        {
          "output_type": "stream",
          "text": [
            "Model: \"sequential_2\"\n",
            "_________________________________________________________________\n",
            "Layer (type)                 Output Shape              Param #   \n",
            "=================================================================\n",
            "conv2d_4 (Conv2D)            (None, 10, 10, 64)        640       \n",
            "_________________________________________________________________\n",
            "batch_normalization_4 (Batch (None, 10, 10, 64)        256       \n",
            "_________________________________________________________________\n",
            "leaky_re_lu_8 (LeakyReLU)    (None, 10, 10, 64)        0         \n",
            "_________________________________________________________________\n",
            "conv2d_5 (Conv2D)            (None, 4, 4, 32)          18464     \n",
            "_________________________________________________________________\n",
            "batch_normalization_5 (Batch (None, 4, 4, 32)          128       \n",
            "_________________________________________________________________\n",
            "leaky_re_lu_9 (LeakyReLU)    (None, 4, 4, 32)          0         \n",
            "_________________________________________________________________\n",
            "flatten_2 (Flatten)          (None, 512)               0         \n",
            "_________________________________________________________________\n",
            "dense_6 (Dense)              (None, 512)               262656    \n",
            "_________________________________________________________________\n",
            "leaky_re_lu_10 (LeakyReLU)   (None, 512)               0         \n",
            "_________________________________________________________________\n",
            "dense_7 (Dense)              (None, 1024)              525312    \n",
            "_________________________________________________________________\n",
            "leaky_re_lu_11 (LeakyReLU)   (None, 1024)              0         \n",
            "_________________________________________________________________\n",
            "dense_8 (Dense)              (None, 784)               803600    \n",
            "=================================================================\n",
            "Total params: 1,611,056\n",
            "Trainable params: 1,610,864\n",
            "Non-trainable params: 192\n",
            "_________________________________________________________________\n"
          ],
          "name": "stdout"
        }
      ]
    },
    {
      "cell_type": "code",
      "metadata": {
        "colab": {
          "base_uri": "https://localhost:8080/"
        },
        "id": "Kcku4J5czZ9t",
        "outputId": "29eea9d6-1f77-4891-afe3-13968b20d6d5"
      },
      "source": [
        "def create_discriminator():\r\n",
        "    discriminator=Sequential()\r\n",
        "    discriminator.add(Dense(units=512,input_dim=28*28))\r\n",
        "    #discriminator.add(Conv2D(64, (3,3), strides =(1,1), padding ='same', input_shape = [28,28,1]))\r\n",
        "    discriminator.add(LeakyReLU(0.2))\r\n",
        "    discriminator.add(Dropout(0.3))\r\n",
        "    #discriminator.add(Flatten())\r\n",
        "       \r\n",
        "    \r\n",
        "    discriminator.add(Dense(units=512))\r\n",
        "    discriminator.add(LeakyReLU(0.2))\r\n",
        "    discriminator.add(Dropout(0.3))\r\n",
        "       \r\n",
        "    discriminator.add(Dense(units=256))\r\n",
        "    discriminator.add(LeakyReLU(0.2))\r\n",
        "    \r\n",
        "    discriminator.add(Dense(units=1, activation='sigmoid'))\r\n",
        "    \r\n",
        "    discriminator.compile(loss='binary_crossentropy', optimizer='adam')\r\n",
        "    return discriminator\r\n",
        "d =create_discriminator()\r\n",
        "d.summary()"
      ],
      "execution_count": 8,
      "outputs": [
        {
          "output_type": "stream",
          "text": [
            "Model: \"sequential_3\"\n",
            "_________________________________________________________________\n",
            "Layer (type)                 Output Shape              Param #   \n",
            "=================================================================\n",
            "dense_9 (Dense)              (None, 512)               401920    \n",
            "_________________________________________________________________\n",
            "leaky_re_lu_12 (LeakyReLU)   (None, 512)               0         \n",
            "_________________________________________________________________\n",
            "dropout (Dropout)            (None, 512)               0         \n",
            "_________________________________________________________________\n",
            "dense_10 (Dense)             (None, 512)               262656    \n",
            "_________________________________________________________________\n",
            "leaky_re_lu_13 (LeakyReLU)   (None, 512)               0         \n",
            "_________________________________________________________________\n",
            "dropout_1 (Dropout)          (None, 512)               0         \n",
            "_________________________________________________________________\n",
            "dense_11 (Dense)             (None, 256)               131328    \n",
            "_________________________________________________________________\n",
            "leaky_re_lu_14 (LeakyReLU)   (None, 256)               0         \n",
            "_________________________________________________________________\n",
            "dense_12 (Dense)             (None, 1)                 257       \n",
            "=================================================================\n",
            "Total params: 796,161\n",
            "Trainable params: 796,161\n",
            "Non-trainable params: 0\n",
            "_________________________________________________________________\n"
          ],
          "name": "stdout"
        }
      ]
    },
    {
      "cell_type": "code",
      "metadata": {
        "id": "Puzkbz9e0Q5q"
      },
      "source": [
        "def create_gan(discriminator, generator):\r\n",
        "     discriminator.trainable=False\r\n",
        "     img_shape=(28, 28, 1)\r\n",
        "     gan_input = Input(img_shape)\r\n",
        "     x = generator(gan_input)\r\n",
        "     gan_output= discriminator(x)\r\n",
        "     gan= Model(inputs=gan_input, outputs=gan_output)\r\n",
        "     gan.compile(loss='binary_crossentropy', optimizer='adam')\r\n",
        "     return gan"
      ],
      "execution_count": 10,
      "outputs": []
    },
    {
      "cell_type": "code",
      "metadata": {
        "colab": {
          "base_uri": "https://localhost:8080/"
        },
        "id": "yJezGktg0XlD",
        "outputId": "069f14f2-0802-4a58-beba-3f33b1d79182"
      },
      "source": [
        "generator= create_generator()\r\n",
        "discriminator= create_discriminator()\r\n",
        "gan = create_gan(discriminator, generator)\r\n",
        "\r\n",
        "batch_size = 128\r\n",
        "Epochs = 300\r\n",
        "for epcs in range(1, Epochs ):\r\n",
        "        print(\"Epoch Number %d\" %epcs)\r\n",
        "        for _ in tqdm(range(batch_size)):\r\n",
        "        #generate  random noise of shape 28*28 to initialize the generator\r\n",
        "            noise= np.random.normal(0,1, [batch_size, 28,28,1])\r\n",
        "       \r\n",
        "            # Now predict the noise by feeding it to generator\r\n",
        "            generated_images = generator.predict(noise)\r\n",
        "            \r\n",
        "            # Take real images from the Fashion MNIST and reshape it for the discriminator\r\n",
        "            image_batch =x_train[np.random.randint(low=0,high=x_train.shape[0],size=128)]\r\n",
        "            # The discriminator accepts vector of dimension 784, and hence we reshape the images\r\n",
        "            image_batch = image_batch.reshape(-1,28*28)\r\n",
        "           \r\n",
        "            #We concate both real and fake images to train the discriminator\r\n",
        "            X= np.concatenate([image_batch, generated_images])\r\n",
        "           \r\n",
        "            # We Next assign label to X\r\n",
        "            y_discriminator=np.zeros(2*batch_size)\r\n",
        "            \r\n",
        "            # First  images are true, so we label them 1\r\n",
        "            y_discriminator[:batch_size]=1\r\n",
        "            \r\n",
        "            #Pre train discriminator on  fake and real data  before starting the gan. \r\n",
        "            discriminator.trainable=True\r\n",
        "            discriminator.train_on_batch(X, y_discriminator)\r\n",
        "            \r\n",
        "            # We trick the noises to be real, so that the GAN eventually learns\r\n",
        "            noise= np.random.normal(0,1, [batch_size, 28,28,1])\r\n",
        "            y_label = np.ones(batch_size)\r\n",
        "            \r\n",
        "            # While traininig the GAN, we dont want to alter the weights of the discriminator\r\n",
        "            discriminator.trainable=False\r\n",
        "         \r\n",
        "            # Let us train the GAN  \r\n",
        "            gan.train_on_batch(noise, y_label)"
      ],
      "execution_count": 11,
      "outputs": [
        {
          "output_type": "stream",
          "text": [
            "\r  0%|          | 0/128 [00:00<?, ?it/s]"
          ],
          "name": "stderr"
        },
        {
          "output_type": "stream",
          "text": [
            "Epoch Number 1\n"
          ],
          "name": "stdout"
        },
        {
          "output_type": "stream",
          "text": [
            "100%|██████████| 128/128 [00:14<00:00,  8.66it/s]\n",
            "  2%|▏         | 2/128 [00:00<00:06, 18.59it/s]"
          ],
          "name": "stderr"
        },
        {
          "output_type": "stream",
          "text": [
            "Epoch Number 2\n"
          ],
          "name": "stdout"
        },
        {
          "output_type": "stream",
          "text": [
            "100%|██████████| 128/128 [00:07<00:00, 18.18it/s]\n",
            "  2%|▏         | 2/128 [00:00<00:06, 18.60it/s]"
          ],
          "name": "stderr"
        },
        {
          "output_type": "stream",
          "text": [
            "Epoch Number 3\n"
          ],
          "name": "stdout"
        },
        {
          "output_type": "stream",
          "text": [
            "100%|██████████| 128/128 [00:06<00:00, 18.68it/s]\n",
            "  2%|▏         | 2/128 [00:00<00:07, 17.06it/s]"
          ],
          "name": "stderr"
        },
        {
          "output_type": "stream",
          "text": [
            "Epoch Number 4\n"
          ],
          "name": "stdout"
        },
        {
          "output_type": "stream",
          "text": [
            "100%|██████████| 128/128 [00:06<00:00, 18.50it/s]\n",
            "  2%|▏         | 2/128 [00:00<00:06, 18.96it/s]"
          ],
          "name": "stderr"
        },
        {
          "output_type": "stream",
          "text": [
            "Epoch Number 5\n"
          ],
          "name": "stdout"
        },
        {
          "output_type": "stream",
          "text": [
            "100%|██████████| 128/128 [00:06<00:00, 18.65it/s]\n",
            "  2%|▏         | 2/128 [00:00<00:06, 19.29it/s]"
          ],
          "name": "stderr"
        },
        {
          "output_type": "stream",
          "text": [
            "Epoch Number 6\n"
          ],
          "name": "stdout"
        },
        {
          "output_type": "stream",
          "text": [
            "100%|██████████| 128/128 [00:06<00:00, 18.79it/s]\n",
            "  2%|▏         | 2/128 [00:00<00:06, 18.88it/s]"
          ],
          "name": "stderr"
        },
        {
          "output_type": "stream",
          "text": [
            "Epoch Number 7\n"
          ],
          "name": "stdout"
        },
        {
          "output_type": "stream",
          "text": [
            "100%|██████████| 128/128 [00:06<00:00, 18.77it/s]\n",
            "  2%|▏         | 2/128 [00:00<00:06, 19.06it/s]"
          ],
          "name": "stderr"
        },
        {
          "output_type": "stream",
          "text": [
            "Epoch Number 8\n"
          ],
          "name": "stdout"
        },
        {
          "output_type": "stream",
          "text": [
            "100%|██████████| 128/128 [00:06<00:00, 18.43it/s]\n",
            "  2%|▏         | 2/128 [00:00<00:06, 18.21it/s]"
          ],
          "name": "stderr"
        },
        {
          "output_type": "stream",
          "text": [
            "Epoch Number 9\n"
          ],
          "name": "stdout"
        },
        {
          "output_type": "stream",
          "text": [
            "100%|██████████| 128/128 [00:06<00:00, 18.29it/s]\n",
            "  2%|▏         | 2/128 [00:00<00:06, 19.11it/s]"
          ],
          "name": "stderr"
        },
        {
          "output_type": "stream",
          "text": [
            "Epoch Number 10\n"
          ],
          "name": "stdout"
        },
        {
          "output_type": "stream",
          "text": [
            "100%|██████████| 128/128 [00:06<00:00, 18.58it/s]\n",
            "  2%|▏         | 2/128 [00:00<00:06, 19.10it/s]"
          ],
          "name": "stderr"
        },
        {
          "output_type": "stream",
          "text": [
            "Epoch Number 11\n"
          ],
          "name": "stdout"
        },
        {
          "output_type": "stream",
          "text": [
            "100%|██████████| 128/128 [00:06<00:00, 18.67it/s]\n",
            "  2%|▏         | 2/128 [00:00<00:07, 17.84it/s]"
          ],
          "name": "stderr"
        },
        {
          "output_type": "stream",
          "text": [
            "Epoch Number 12\n"
          ],
          "name": "stdout"
        },
        {
          "output_type": "stream",
          "text": [
            "100%|██████████| 128/128 [00:06<00:00, 18.46it/s]\n",
            "  2%|▏         | 2/128 [00:00<00:07, 17.96it/s]"
          ],
          "name": "stderr"
        },
        {
          "output_type": "stream",
          "text": [
            "Epoch Number 13\n"
          ],
          "name": "stdout"
        },
        {
          "output_type": "stream",
          "text": [
            "100%|██████████| 128/128 [00:07<00:00, 18.24it/s]\n",
            "  2%|▏         | 2/128 [00:00<00:06, 18.79it/s]"
          ],
          "name": "stderr"
        },
        {
          "output_type": "stream",
          "text": [
            "Epoch Number 14\n"
          ],
          "name": "stdout"
        },
        {
          "output_type": "stream",
          "text": [
            "100%|██████████| 128/128 [00:06<00:00, 18.75it/s]\n",
            "  2%|▏         | 2/128 [00:00<00:07, 17.39it/s]"
          ],
          "name": "stderr"
        },
        {
          "output_type": "stream",
          "text": [
            "Epoch Number 15\n"
          ],
          "name": "stdout"
        },
        {
          "output_type": "stream",
          "text": [
            "100%|██████████| 128/128 [00:06<00:00, 18.42it/s]\n",
            "  2%|▏         | 2/128 [00:00<00:06, 19.01it/s]"
          ],
          "name": "stderr"
        },
        {
          "output_type": "stream",
          "text": [
            "Epoch Number 16\n"
          ],
          "name": "stdout"
        },
        {
          "output_type": "stream",
          "text": [
            "100%|██████████| 128/128 [00:06<00:00, 18.55it/s]\n",
            "  2%|▏         | 2/128 [00:00<00:06, 19.47it/s]"
          ],
          "name": "stderr"
        },
        {
          "output_type": "stream",
          "text": [
            "Epoch Number 17\n"
          ],
          "name": "stdout"
        },
        {
          "output_type": "stream",
          "text": [
            "100%|██████████| 128/128 [00:06<00:00, 18.58it/s]\n",
            "  2%|▏         | 2/128 [00:00<00:06, 18.38it/s]"
          ],
          "name": "stderr"
        },
        {
          "output_type": "stream",
          "text": [
            "Epoch Number 18\n"
          ],
          "name": "stdout"
        },
        {
          "output_type": "stream",
          "text": [
            "100%|██████████| 128/128 [00:07<00:00, 18.26it/s]\n",
            "  2%|▏         | 2/128 [00:00<00:06, 19.12it/s]"
          ],
          "name": "stderr"
        },
        {
          "output_type": "stream",
          "text": [
            "Epoch Number 19\n"
          ],
          "name": "stdout"
        },
        {
          "output_type": "stream",
          "text": [
            "100%|██████████| 128/128 [00:06<00:00, 18.50it/s]\n",
            "  2%|▏         | 2/128 [00:00<00:06, 19.23it/s]"
          ],
          "name": "stderr"
        },
        {
          "output_type": "stream",
          "text": [
            "Epoch Number 20\n"
          ],
          "name": "stdout"
        },
        {
          "output_type": "stream",
          "text": [
            "100%|██████████| 128/128 [00:06<00:00, 18.59it/s]\n",
            "  2%|▏         | 2/128 [00:00<00:06, 19.41it/s]"
          ],
          "name": "stderr"
        },
        {
          "output_type": "stream",
          "text": [
            "Epoch Number 21\n"
          ],
          "name": "stdout"
        },
        {
          "output_type": "stream",
          "text": [
            "100%|██████████| 128/128 [00:06<00:00, 18.61it/s]\n",
            "  2%|▏         | 2/128 [00:00<00:06, 18.48it/s]"
          ],
          "name": "stderr"
        },
        {
          "output_type": "stream",
          "text": [
            "Epoch Number 22\n"
          ],
          "name": "stdout"
        },
        {
          "output_type": "stream",
          "text": [
            "100%|██████████| 128/128 [00:06<00:00, 18.68it/s]\n",
            "  2%|▏         | 2/128 [00:00<00:06, 18.03it/s]"
          ],
          "name": "stderr"
        },
        {
          "output_type": "stream",
          "text": [
            "Epoch Number 23\n"
          ],
          "name": "stdout"
        },
        {
          "output_type": "stream",
          "text": [
            "100%|██████████| 128/128 [00:06<00:00, 18.65it/s]\n",
            "  2%|▏         | 2/128 [00:00<00:06, 18.09it/s]"
          ],
          "name": "stderr"
        },
        {
          "output_type": "stream",
          "text": [
            "Epoch Number 24\n"
          ],
          "name": "stdout"
        },
        {
          "output_type": "stream",
          "text": [
            "100%|██████████| 128/128 [00:07<00:00, 18.24it/s]\n",
            "  2%|▏         | 2/128 [00:00<00:06, 19.22it/s]"
          ],
          "name": "stderr"
        },
        {
          "output_type": "stream",
          "text": [
            "Epoch Number 25\n"
          ],
          "name": "stdout"
        },
        {
          "output_type": "stream",
          "text": [
            "100%|██████████| 128/128 [00:06<00:00, 18.67it/s]\n",
            "  2%|▏         | 2/128 [00:00<00:06, 18.29it/s]"
          ],
          "name": "stderr"
        },
        {
          "output_type": "stream",
          "text": [
            "Epoch Number 26\n"
          ],
          "name": "stdout"
        },
        {
          "output_type": "stream",
          "text": [
            "100%|██████████| 128/128 [00:06<00:00, 18.67it/s]\n",
            "  2%|▏         | 2/128 [00:00<00:06, 19.32it/s]"
          ],
          "name": "stderr"
        },
        {
          "output_type": "stream",
          "text": [
            "Epoch Number 27\n"
          ],
          "name": "stdout"
        },
        {
          "output_type": "stream",
          "text": [
            "100%|██████████| 128/128 [00:06<00:00, 18.41it/s]\n",
            "  2%|▏         | 2/128 [00:00<00:06, 18.27it/s]"
          ],
          "name": "stderr"
        },
        {
          "output_type": "stream",
          "text": [
            "Epoch Number 28\n"
          ],
          "name": "stdout"
        },
        {
          "output_type": "stream",
          "text": [
            "100%|██████████| 128/128 [00:06<00:00, 18.35it/s]\n",
            "  2%|▏         | 2/128 [00:00<00:06, 18.60it/s]"
          ],
          "name": "stderr"
        },
        {
          "output_type": "stream",
          "text": [
            "Epoch Number 29\n"
          ],
          "name": "stdout"
        },
        {
          "output_type": "stream",
          "text": [
            "100%|██████████| 128/128 [00:06<00:00, 18.34it/s]\n",
            "  2%|▏         | 2/128 [00:00<00:06, 18.45it/s]"
          ],
          "name": "stderr"
        },
        {
          "output_type": "stream",
          "text": [
            "Epoch Number 30\n"
          ],
          "name": "stdout"
        },
        {
          "output_type": "stream",
          "text": [
            "100%|██████████| 128/128 [00:06<00:00, 18.61it/s]\n",
            "  2%|▏         | 2/128 [00:00<00:06, 18.39it/s]"
          ],
          "name": "stderr"
        },
        {
          "output_type": "stream",
          "text": [
            "Epoch Number 31\n"
          ],
          "name": "stdout"
        },
        {
          "output_type": "stream",
          "text": [
            "100%|██████████| 128/128 [00:06<00:00, 18.64it/s]\n",
            "  2%|▏         | 2/128 [00:00<00:06, 19.54it/s]"
          ],
          "name": "stderr"
        },
        {
          "output_type": "stream",
          "text": [
            "Epoch Number 32\n"
          ],
          "name": "stdout"
        },
        {
          "output_type": "stream",
          "text": [
            "100%|██████████| 128/128 [00:06<00:00, 18.55it/s]\n",
            "  2%|▏         | 2/128 [00:00<00:06, 18.45it/s]"
          ],
          "name": "stderr"
        },
        {
          "output_type": "stream",
          "text": [
            "Epoch Number 33\n"
          ],
          "name": "stdout"
        },
        {
          "output_type": "stream",
          "text": [
            "100%|██████████| 128/128 [00:06<00:00, 18.59it/s]\n",
            "  2%|▏         | 2/128 [00:00<00:07, 16.84it/s]"
          ],
          "name": "stderr"
        },
        {
          "output_type": "stream",
          "text": [
            "Epoch Number 34\n"
          ],
          "name": "stdout"
        },
        {
          "output_type": "stream",
          "text": [
            "100%|██████████| 128/128 [00:07<00:00, 18.23it/s]\n",
            "  2%|▏         | 2/128 [00:00<00:07, 17.96it/s]"
          ],
          "name": "stderr"
        },
        {
          "output_type": "stream",
          "text": [
            "Epoch Number 35\n"
          ],
          "name": "stdout"
        },
        {
          "output_type": "stream",
          "text": [
            "100%|██████████| 128/128 [00:06<00:00, 18.54it/s]\n",
            "  2%|▏         | 2/128 [00:00<00:06, 18.50it/s]"
          ],
          "name": "stderr"
        },
        {
          "output_type": "stream",
          "text": [
            "Epoch Number 36\n"
          ],
          "name": "stdout"
        },
        {
          "output_type": "stream",
          "text": [
            "100%|██████████| 128/128 [00:06<00:00, 18.67it/s]\n",
            "  2%|▏         | 2/128 [00:00<00:06, 18.59it/s]"
          ],
          "name": "stderr"
        },
        {
          "output_type": "stream",
          "text": [
            "Epoch Number 37\n"
          ],
          "name": "stdout"
        },
        {
          "output_type": "stream",
          "text": [
            "100%|██████████| 128/128 [00:06<00:00, 18.45it/s]\n",
            "  2%|▏         | 2/128 [00:00<00:06, 18.65it/s]"
          ],
          "name": "stderr"
        },
        {
          "output_type": "stream",
          "text": [
            "Epoch Number 38\n"
          ],
          "name": "stdout"
        },
        {
          "output_type": "stream",
          "text": [
            "100%|██████████| 128/128 [00:06<00:00, 18.51it/s]\n",
            "  2%|▏         | 2/128 [00:00<00:07, 17.23it/s]"
          ],
          "name": "stderr"
        },
        {
          "output_type": "stream",
          "text": [
            "Epoch Number 39\n"
          ],
          "name": "stdout"
        },
        {
          "output_type": "stream",
          "text": [
            "100%|██████████| 128/128 [00:06<00:00, 18.45it/s]\n",
            "  2%|▏         | 2/128 [00:00<00:06, 18.81it/s]"
          ],
          "name": "stderr"
        },
        {
          "output_type": "stream",
          "text": [
            "Epoch Number 40\n"
          ],
          "name": "stdout"
        },
        {
          "output_type": "stream",
          "text": [
            "100%|██████████| 128/128 [00:07<00:00, 18.15it/s]\n",
            "  2%|▏         | 2/128 [00:00<00:06, 19.23it/s]"
          ],
          "name": "stderr"
        },
        {
          "output_type": "stream",
          "text": [
            "Epoch Number 41\n"
          ],
          "name": "stdout"
        },
        {
          "output_type": "stream",
          "text": [
            "100%|██████████| 128/128 [00:06<00:00, 18.48it/s]\n",
            "  2%|▏         | 2/128 [00:00<00:07, 17.48it/s]"
          ],
          "name": "stderr"
        },
        {
          "output_type": "stream",
          "text": [
            "Epoch Number 42\n"
          ],
          "name": "stdout"
        },
        {
          "output_type": "stream",
          "text": [
            "100%|██████████| 128/128 [00:06<00:00, 18.51it/s]\n",
            "  2%|▏         | 2/128 [00:00<00:06, 19.35it/s]"
          ],
          "name": "stderr"
        },
        {
          "output_type": "stream",
          "text": [
            "Epoch Number 43\n"
          ],
          "name": "stdout"
        },
        {
          "output_type": "stream",
          "text": [
            "100%|██████████| 128/128 [00:06<00:00, 18.53it/s]\n",
            "  2%|▏         | 2/128 [00:00<00:06, 18.92it/s]"
          ],
          "name": "stderr"
        },
        {
          "output_type": "stream",
          "text": [
            "Epoch Number 44\n"
          ],
          "name": "stdout"
        },
        {
          "output_type": "stream",
          "text": [
            "100%|██████████| 128/128 [00:06<00:00, 18.50it/s]\n",
            "  2%|▏         | 2/128 [00:00<00:06, 18.93it/s]"
          ],
          "name": "stderr"
        },
        {
          "output_type": "stream",
          "text": [
            "Epoch Number 45\n"
          ],
          "name": "stdout"
        },
        {
          "output_type": "stream",
          "text": [
            "100%|██████████| 128/128 [00:07<00:00, 18.07it/s]\n",
            "  2%|▏         | 2/128 [00:00<00:06, 18.58it/s]"
          ],
          "name": "stderr"
        },
        {
          "output_type": "stream",
          "text": [
            "Epoch Number 46\n"
          ],
          "name": "stdout"
        },
        {
          "output_type": "stream",
          "text": [
            "100%|██████████| 128/128 [00:07<00:00, 17.87it/s]\n",
            "  2%|▏         | 2/128 [00:00<00:07, 17.72it/s]"
          ],
          "name": "stderr"
        },
        {
          "output_type": "stream",
          "text": [
            "Epoch Number 47\n"
          ],
          "name": "stdout"
        },
        {
          "output_type": "stream",
          "text": [
            "100%|██████████| 128/128 [00:06<00:00, 18.30it/s]\n",
            "  2%|▏         | 2/128 [00:00<00:06, 18.93it/s]"
          ],
          "name": "stderr"
        },
        {
          "output_type": "stream",
          "text": [
            "Epoch Number 48\n"
          ],
          "name": "stdout"
        },
        {
          "output_type": "stream",
          "text": [
            "100%|██████████| 128/128 [00:06<00:00, 18.62it/s]\n",
            "  2%|▏         | 2/128 [00:00<00:06, 19.19it/s]"
          ],
          "name": "stderr"
        },
        {
          "output_type": "stream",
          "text": [
            "Epoch Number 49\n"
          ],
          "name": "stdout"
        },
        {
          "output_type": "stream",
          "text": [
            "100%|██████████| 128/128 [00:06<00:00, 18.54it/s]\n",
            "  2%|▏         | 2/128 [00:00<00:06, 18.13it/s]"
          ],
          "name": "stderr"
        },
        {
          "output_type": "stream",
          "text": [
            "Epoch Number 50\n"
          ],
          "name": "stdout"
        },
        {
          "output_type": "stream",
          "text": [
            "100%|██████████| 128/128 [00:07<00:00, 18.04it/s]\n",
            "  2%|▏         | 2/128 [00:00<00:06, 18.91it/s]"
          ],
          "name": "stderr"
        },
        {
          "output_type": "stream",
          "text": [
            "Epoch Number 51\n"
          ],
          "name": "stdout"
        },
        {
          "output_type": "stream",
          "text": [
            "100%|██████████| 128/128 [00:06<00:00, 18.34it/s]\n",
            "  2%|▏         | 2/128 [00:00<00:06, 19.06it/s]"
          ],
          "name": "stderr"
        },
        {
          "output_type": "stream",
          "text": [
            "Epoch Number 52\n"
          ],
          "name": "stdout"
        },
        {
          "output_type": "stream",
          "text": [
            "100%|██████████| 128/128 [00:06<00:00, 18.52it/s]\n",
            "  2%|▏         | 2/128 [00:00<00:06, 19.07it/s]"
          ],
          "name": "stderr"
        },
        {
          "output_type": "stream",
          "text": [
            "Epoch Number 53\n"
          ],
          "name": "stdout"
        },
        {
          "output_type": "stream",
          "text": [
            "100%|██████████| 128/128 [00:06<00:00, 18.48it/s]\n",
            "  2%|▏         | 2/128 [00:00<00:06, 18.95it/s]"
          ],
          "name": "stderr"
        },
        {
          "output_type": "stream",
          "text": [
            "Epoch Number 54\n"
          ],
          "name": "stdout"
        },
        {
          "output_type": "stream",
          "text": [
            "100%|██████████| 128/128 [00:06<00:00, 18.58it/s]\n",
            "  2%|▏         | 2/128 [00:00<00:07, 17.66it/s]"
          ],
          "name": "stderr"
        },
        {
          "output_type": "stream",
          "text": [
            "Epoch Number 55\n"
          ],
          "name": "stdout"
        },
        {
          "output_type": "stream",
          "text": [
            "100%|██████████| 128/128 [00:06<00:00, 18.56it/s]\n",
            "  2%|▏         | 2/128 [00:00<00:06, 18.98it/s]"
          ],
          "name": "stderr"
        },
        {
          "output_type": "stream",
          "text": [
            "Epoch Number 56\n"
          ],
          "name": "stdout"
        },
        {
          "output_type": "stream",
          "text": [
            "100%|██████████| 128/128 [00:07<00:00, 17.97it/s]\n",
            "  2%|▏         | 2/128 [00:00<00:06, 18.56it/s]"
          ],
          "name": "stderr"
        },
        {
          "output_type": "stream",
          "text": [
            "Epoch Number 57\n"
          ],
          "name": "stdout"
        },
        {
          "output_type": "stream",
          "text": [
            "100%|██████████| 128/128 [00:06<00:00, 18.53it/s]\n",
            "  2%|▏         | 2/128 [00:00<00:06, 18.47it/s]"
          ],
          "name": "stderr"
        },
        {
          "output_type": "stream",
          "text": [
            "Epoch Number 58\n"
          ],
          "name": "stdout"
        },
        {
          "output_type": "stream",
          "text": [
            "100%|██████████| 128/128 [00:06<00:00, 18.57it/s]\n",
            "  2%|▏         | 2/128 [00:00<00:06, 19.05it/s]"
          ],
          "name": "stderr"
        },
        {
          "output_type": "stream",
          "text": [
            "Epoch Number 59\n"
          ],
          "name": "stdout"
        },
        {
          "output_type": "stream",
          "text": [
            "100%|██████████| 128/128 [00:06<00:00, 18.68it/s]\n",
            "  2%|▏         | 2/128 [00:00<00:06, 19.05it/s]"
          ],
          "name": "stderr"
        },
        {
          "output_type": "stream",
          "text": [
            "Epoch Number 60\n"
          ],
          "name": "stdout"
        },
        {
          "output_type": "stream",
          "text": [
            "100%|██████████| 128/128 [00:06<00:00, 18.59it/s]\n",
            "  2%|▏         | 2/128 [00:00<00:06, 19.02it/s]"
          ],
          "name": "stderr"
        },
        {
          "output_type": "stream",
          "text": [
            "Epoch Number 61\n"
          ],
          "name": "stdout"
        },
        {
          "output_type": "stream",
          "text": [
            "100%|██████████| 128/128 [00:07<00:00, 18.10it/s]\n",
            "  2%|▏         | 2/128 [00:00<00:06, 18.11it/s]"
          ],
          "name": "stderr"
        },
        {
          "output_type": "stream",
          "text": [
            "Epoch Number 62\n"
          ],
          "name": "stdout"
        },
        {
          "output_type": "stream",
          "text": [
            "100%|██████████| 128/128 [00:06<00:00, 18.42it/s]\n",
            "  2%|▏         | 2/128 [00:00<00:06, 18.09it/s]"
          ],
          "name": "stderr"
        },
        {
          "output_type": "stream",
          "text": [
            "Epoch Number 63\n"
          ],
          "name": "stdout"
        },
        {
          "output_type": "stream",
          "text": [
            "100%|██████████| 128/128 [00:07<00:00, 18.12it/s]\n",
            "  2%|▏         | 2/128 [00:00<00:06, 18.07it/s]"
          ],
          "name": "stderr"
        },
        {
          "output_type": "stream",
          "text": [
            "Epoch Number 64\n"
          ],
          "name": "stdout"
        },
        {
          "output_type": "stream",
          "text": [
            "100%|██████████| 128/128 [00:06<00:00, 18.39it/s]\n",
            "  2%|▏         | 2/128 [00:00<00:07, 17.42it/s]"
          ],
          "name": "stderr"
        },
        {
          "output_type": "stream",
          "text": [
            "Epoch Number 65\n"
          ],
          "name": "stdout"
        },
        {
          "output_type": "stream",
          "text": [
            "100%|██████████| 128/128 [00:06<00:00, 18.60it/s]\n",
            "  2%|▏         | 2/128 [00:00<00:06, 18.13it/s]"
          ],
          "name": "stderr"
        },
        {
          "output_type": "stream",
          "text": [
            "Epoch Number 66\n"
          ],
          "name": "stdout"
        },
        {
          "output_type": "stream",
          "text": [
            "100%|██████████| 128/128 [00:06<00:00, 18.40it/s]\n",
            "  2%|▏         | 2/128 [00:00<00:06, 18.98it/s]"
          ],
          "name": "stderr"
        },
        {
          "output_type": "stream",
          "text": [
            "Epoch Number 67\n"
          ],
          "name": "stdout"
        },
        {
          "output_type": "stream",
          "text": [
            "100%|██████████| 128/128 [00:06<00:00, 18.82it/s]\n",
            "  2%|▏         | 2/128 [00:00<00:06, 18.94it/s]"
          ],
          "name": "stderr"
        },
        {
          "output_type": "stream",
          "text": [
            "Epoch Number 68\n"
          ],
          "name": "stdout"
        },
        {
          "output_type": "stream",
          "text": [
            "100%|██████████| 128/128 [00:06<00:00, 18.73it/s]\n",
            "  2%|▏         | 2/128 [00:00<00:07, 17.83it/s]"
          ],
          "name": "stderr"
        },
        {
          "output_type": "stream",
          "text": [
            "Epoch Number 69\n"
          ],
          "name": "stdout"
        },
        {
          "output_type": "stream",
          "text": [
            "100%|██████████| 128/128 [00:06<00:00, 18.57it/s]\n",
            "  2%|▏         | 2/128 [00:00<00:06, 18.78it/s]"
          ],
          "name": "stderr"
        },
        {
          "output_type": "stream",
          "text": [
            "Epoch Number 70\n"
          ],
          "name": "stdout"
        },
        {
          "output_type": "stream",
          "text": [
            "100%|██████████| 128/128 [00:06<00:00, 18.59it/s]\n",
            "  2%|▏         | 2/128 [00:00<00:06, 18.80it/s]"
          ],
          "name": "stderr"
        },
        {
          "output_type": "stream",
          "text": [
            "Epoch Number 71\n"
          ],
          "name": "stdout"
        },
        {
          "output_type": "stream",
          "text": [
            "100%|██████████| 128/128 [00:06<00:00, 18.35it/s]\n",
            "  2%|▏         | 2/128 [00:00<00:06, 19.05it/s]"
          ],
          "name": "stderr"
        },
        {
          "output_type": "stream",
          "text": [
            "Epoch Number 72\n"
          ],
          "name": "stdout"
        },
        {
          "output_type": "stream",
          "text": [
            "100%|██████████| 128/128 [00:06<00:00, 18.74it/s]\n",
            "  2%|▏         | 2/128 [00:00<00:06, 19.60it/s]"
          ],
          "name": "stderr"
        },
        {
          "output_type": "stream",
          "text": [
            "Epoch Number 73\n"
          ],
          "name": "stdout"
        },
        {
          "output_type": "stream",
          "text": [
            "100%|██████████| 128/128 [00:06<00:00, 18.63it/s]\n",
            "  2%|▏         | 2/128 [00:00<00:06, 18.13it/s]"
          ],
          "name": "stderr"
        },
        {
          "output_type": "stream",
          "text": [
            "Epoch Number 74\n"
          ],
          "name": "stdout"
        },
        {
          "output_type": "stream",
          "text": [
            "100%|██████████| 128/128 [00:06<00:00, 18.66it/s]\n",
            "  2%|▏         | 2/128 [00:00<00:06, 19.14it/s]"
          ],
          "name": "stderr"
        },
        {
          "output_type": "stream",
          "text": [
            "Epoch Number 75\n"
          ],
          "name": "stdout"
        },
        {
          "output_type": "stream",
          "text": [
            "100%|██████████| 128/128 [00:06<00:00, 18.72it/s]\n",
            "  2%|▏         | 2/128 [00:00<00:06, 18.56it/s]"
          ],
          "name": "stderr"
        },
        {
          "output_type": "stream",
          "text": [
            "Epoch Number 76\n"
          ],
          "name": "stdout"
        },
        {
          "output_type": "stream",
          "text": [
            "100%|██████████| 128/128 [00:06<00:00, 18.74it/s]\n",
            "  2%|▏         | 2/128 [00:00<00:07, 16.84it/s]"
          ],
          "name": "stderr"
        },
        {
          "output_type": "stream",
          "text": [
            "Epoch Number 77\n"
          ],
          "name": "stdout"
        },
        {
          "output_type": "stream",
          "text": [
            "100%|██████████| 128/128 [00:06<00:00, 18.40it/s]\n",
            "  2%|▏         | 2/128 [00:00<00:06, 18.96it/s]"
          ],
          "name": "stderr"
        },
        {
          "output_type": "stream",
          "text": [
            "Epoch Number 78\n"
          ],
          "name": "stdout"
        },
        {
          "output_type": "stream",
          "text": [
            "100%|██████████| 128/128 [00:06<00:00, 18.71it/s]\n",
            "  2%|▏         | 2/128 [00:00<00:07, 15.99it/s]"
          ],
          "name": "stderr"
        },
        {
          "output_type": "stream",
          "text": [
            "Epoch Number 79\n"
          ],
          "name": "stdout"
        },
        {
          "output_type": "stream",
          "text": [
            "100%|██████████| 128/128 [00:06<00:00, 18.70it/s]\n",
            "  2%|▏         | 2/128 [00:00<00:06, 18.10it/s]"
          ],
          "name": "stderr"
        },
        {
          "output_type": "stream",
          "text": [
            "Epoch Number 80\n"
          ],
          "name": "stdout"
        },
        {
          "output_type": "stream",
          "text": [
            "100%|██████████| 128/128 [00:06<00:00, 18.87it/s]\n",
            "  2%|▏         | 2/128 [00:00<00:06, 18.32it/s]"
          ],
          "name": "stderr"
        },
        {
          "output_type": "stream",
          "text": [
            "Epoch Number 81\n"
          ],
          "name": "stdout"
        },
        {
          "output_type": "stream",
          "text": [
            "100%|██████████| 128/128 [00:06<00:00, 18.83it/s]\n",
            "  2%|▏         | 2/128 [00:00<00:07, 17.37it/s]"
          ],
          "name": "stderr"
        },
        {
          "output_type": "stream",
          "text": [
            "Epoch Number 82\n"
          ],
          "name": "stdout"
        },
        {
          "output_type": "stream",
          "text": [
            "100%|██████████| 128/128 [00:06<00:00, 18.35it/s]\n",
            "  2%|▏         | 2/128 [00:00<00:06, 18.89it/s]"
          ],
          "name": "stderr"
        },
        {
          "output_type": "stream",
          "text": [
            "Epoch Number 83\n"
          ],
          "name": "stdout"
        },
        {
          "output_type": "stream",
          "text": [
            "100%|██████████| 128/128 [00:06<00:00, 18.74it/s]\n",
            "  2%|▏         | 2/128 [00:00<00:07, 17.90it/s]"
          ],
          "name": "stderr"
        },
        {
          "output_type": "stream",
          "text": [
            "Epoch Number 84\n"
          ],
          "name": "stdout"
        },
        {
          "output_type": "stream",
          "text": [
            "100%|██████████| 128/128 [00:06<00:00, 18.84it/s]\n",
            "  2%|▏         | 2/128 [00:00<00:06, 18.10it/s]"
          ],
          "name": "stderr"
        },
        {
          "output_type": "stream",
          "text": [
            "Epoch Number 85\n"
          ],
          "name": "stdout"
        },
        {
          "output_type": "stream",
          "text": [
            "100%|██████████| 128/128 [00:06<00:00, 18.63it/s]\n",
            "  2%|▏         | 2/128 [00:00<00:06, 18.91it/s]"
          ],
          "name": "stderr"
        },
        {
          "output_type": "stream",
          "text": [
            "Epoch Number 86\n"
          ],
          "name": "stdout"
        },
        {
          "output_type": "stream",
          "text": [
            "100%|██████████| 128/128 [00:06<00:00, 18.66it/s]\n",
            "  2%|▏         | 2/128 [00:00<00:06, 19.49it/s]"
          ],
          "name": "stderr"
        },
        {
          "output_type": "stream",
          "text": [
            "Epoch Number 87\n"
          ],
          "name": "stdout"
        },
        {
          "output_type": "stream",
          "text": [
            "100%|██████████| 128/128 [00:06<00:00, 18.32it/s]\n",
            "  2%|▏         | 2/128 [00:00<00:07, 17.68it/s]"
          ],
          "name": "stderr"
        },
        {
          "output_type": "stream",
          "text": [
            "Epoch Number 88\n"
          ],
          "name": "stdout"
        },
        {
          "output_type": "stream",
          "text": [
            "100%|██████████| 128/128 [00:06<00:00, 18.73it/s]\n",
            "  2%|▏         | 2/128 [00:00<00:06, 19.10it/s]"
          ],
          "name": "stderr"
        },
        {
          "output_type": "stream",
          "text": [
            "Epoch Number 89\n"
          ],
          "name": "stdout"
        },
        {
          "output_type": "stream",
          "text": [
            "100%|██████████| 128/128 [00:06<00:00, 18.81it/s]\n",
            "  2%|▏         | 2/128 [00:00<00:06, 18.21it/s]"
          ],
          "name": "stderr"
        },
        {
          "output_type": "stream",
          "text": [
            "Epoch Number 90\n"
          ],
          "name": "stdout"
        },
        {
          "output_type": "stream",
          "text": [
            "100%|██████████| 128/128 [00:06<00:00, 18.53it/s]\n",
            "  2%|▏         | 2/128 [00:00<00:06, 18.71it/s]"
          ],
          "name": "stderr"
        },
        {
          "output_type": "stream",
          "text": [
            "Epoch Number 91\n"
          ],
          "name": "stdout"
        },
        {
          "output_type": "stream",
          "text": [
            "100%|██████████| 128/128 [00:06<00:00, 18.37it/s]\n",
            "  2%|▏         | 2/128 [00:00<00:07, 16.38it/s]"
          ],
          "name": "stderr"
        },
        {
          "output_type": "stream",
          "text": [
            "Epoch Number 92\n"
          ],
          "name": "stdout"
        },
        {
          "output_type": "stream",
          "text": [
            "100%|██████████| 128/128 [00:06<00:00, 18.56it/s]\n",
            "  2%|▏         | 2/128 [00:00<00:07, 16.98it/s]"
          ],
          "name": "stderr"
        },
        {
          "output_type": "stream",
          "text": [
            "Epoch Number 93\n"
          ],
          "name": "stdout"
        },
        {
          "output_type": "stream",
          "text": [
            "100%|██████████| 128/128 [00:06<00:00, 18.56it/s]\n",
            "  2%|▏         | 2/128 [00:00<00:06, 18.95it/s]"
          ],
          "name": "stderr"
        },
        {
          "output_type": "stream",
          "text": [
            "Epoch Number 94\n"
          ],
          "name": "stdout"
        },
        {
          "output_type": "stream",
          "text": [
            "100%|██████████| 128/128 [00:06<00:00, 18.72it/s]\n",
            "  2%|▏         | 2/128 [00:00<00:06, 19.14it/s]"
          ],
          "name": "stderr"
        },
        {
          "output_type": "stream",
          "text": [
            "Epoch Number 95\n"
          ],
          "name": "stdout"
        },
        {
          "output_type": "stream",
          "text": [
            "100%|██████████| 128/128 [00:06<00:00, 18.90it/s]\n",
            "  2%|▏         | 2/128 [00:00<00:06, 19.14it/s]"
          ],
          "name": "stderr"
        },
        {
          "output_type": "stream",
          "text": [
            "Epoch Number 96\n"
          ],
          "name": "stdout"
        },
        {
          "output_type": "stream",
          "text": [
            "100%|██████████| 128/128 [00:06<00:00, 18.69it/s]\n",
            "  2%|▏         | 2/128 [00:00<00:06, 19.09it/s]"
          ],
          "name": "stderr"
        },
        {
          "output_type": "stream",
          "text": [
            "Epoch Number 97\n"
          ],
          "name": "stdout"
        },
        {
          "output_type": "stream",
          "text": [
            "100%|██████████| 128/128 [00:06<00:00, 18.70it/s]\n",
            "  2%|▏         | 2/128 [00:00<00:06, 18.43it/s]"
          ],
          "name": "stderr"
        },
        {
          "output_type": "stream",
          "text": [
            "Epoch Number 98\n"
          ],
          "name": "stdout"
        },
        {
          "output_type": "stream",
          "text": [
            "100%|██████████| 128/128 [00:06<00:00, 18.44it/s]\n",
            "  2%|▏         | 2/128 [00:00<00:07, 17.58it/s]"
          ],
          "name": "stderr"
        },
        {
          "output_type": "stream",
          "text": [
            "Epoch Number 99\n"
          ],
          "name": "stdout"
        },
        {
          "output_type": "stream",
          "text": [
            "100%|██████████| 128/128 [00:06<00:00, 18.79it/s]\n",
            "  2%|▏         | 2/128 [00:00<00:06, 18.66it/s]"
          ],
          "name": "stderr"
        },
        {
          "output_type": "stream",
          "text": [
            "Epoch Number 100\n"
          ],
          "name": "stdout"
        },
        {
          "output_type": "stream",
          "text": [
            "100%|██████████| 128/128 [00:06<00:00, 18.87it/s]\n",
            "  2%|▏         | 2/128 [00:00<00:07, 16.00it/s]"
          ],
          "name": "stderr"
        },
        {
          "output_type": "stream",
          "text": [
            "Epoch Number 101\n"
          ],
          "name": "stdout"
        },
        {
          "output_type": "stream",
          "text": [
            "100%|██████████| 128/128 [00:06<00:00, 18.39it/s]\n",
            "  2%|▏         | 2/128 [00:00<00:06, 19.47it/s]"
          ],
          "name": "stderr"
        },
        {
          "output_type": "stream",
          "text": [
            "Epoch Number 102\n"
          ],
          "name": "stdout"
        },
        {
          "output_type": "stream",
          "text": [
            "100%|██████████| 128/128 [00:06<00:00, 18.94it/s]\n",
            "  2%|▏         | 2/128 [00:00<00:06, 19.31it/s]"
          ],
          "name": "stderr"
        },
        {
          "output_type": "stream",
          "text": [
            "Epoch Number 103\n"
          ],
          "name": "stdout"
        },
        {
          "output_type": "stream",
          "text": [
            "100%|██████████| 128/128 [00:06<00:00, 18.40it/s]\n",
            "  2%|▏         | 2/128 [00:00<00:06, 18.27it/s]"
          ],
          "name": "stderr"
        },
        {
          "output_type": "stream",
          "text": [
            "Epoch Number 104\n"
          ],
          "name": "stdout"
        },
        {
          "output_type": "stream",
          "text": [
            "100%|██████████| 128/128 [00:06<00:00, 18.81it/s]\n",
            "  2%|▏         | 2/128 [00:00<00:06, 19.30it/s]"
          ],
          "name": "stderr"
        },
        {
          "output_type": "stream",
          "text": [
            "Epoch Number 105\n"
          ],
          "name": "stdout"
        },
        {
          "output_type": "stream",
          "text": [
            "100%|██████████| 128/128 [00:06<00:00, 18.85it/s]\n",
            "  2%|▏         | 2/128 [00:00<00:06, 19.04it/s]"
          ],
          "name": "stderr"
        },
        {
          "output_type": "stream",
          "text": [
            "Epoch Number 106\n"
          ],
          "name": "stdout"
        },
        {
          "output_type": "stream",
          "text": [
            "100%|██████████| 128/128 [00:06<00:00, 18.71it/s]\n",
            "  2%|▏         | 2/128 [00:00<00:06, 18.12it/s]"
          ],
          "name": "stderr"
        },
        {
          "output_type": "stream",
          "text": [
            "Epoch Number 107\n"
          ],
          "name": "stdout"
        },
        {
          "output_type": "stream",
          "text": [
            "100%|██████████| 128/128 [00:06<00:00, 18.79it/s]\n",
            "  2%|▏         | 2/128 [00:00<00:06, 18.18it/s]"
          ],
          "name": "stderr"
        },
        {
          "output_type": "stream",
          "text": [
            "Epoch Number 108\n"
          ],
          "name": "stdout"
        },
        {
          "output_type": "stream",
          "text": [
            "100%|██████████| 128/128 [00:06<00:00, 18.79it/s]\n",
            "  2%|▏         | 2/128 [00:00<00:06, 18.09it/s]"
          ],
          "name": "stderr"
        },
        {
          "output_type": "stream",
          "text": [
            "Epoch Number 109\n"
          ],
          "name": "stdout"
        },
        {
          "output_type": "stream",
          "text": [
            "100%|██████████| 128/128 [00:06<00:00, 18.34it/s]\n",
            "  2%|▏         | 2/128 [00:00<00:07, 17.48it/s]"
          ],
          "name": "stderr"
        },
        {
          "output_type": "stream",
          "text": [
            "Epoch Number 110\n"
          ],
          "name": "stdout"
        },
        {
          "output_type": "stream",
          "text": [
            "100%|██████████| 128/128 [00:06<00:00, 18.70it/s]\n",
            "  2%|▏         | 2/128 [00:00<00:06, 19.57it/s]"
          ],
          "name": "stderr"
        },
        {
          "output_type": "stream",
          "text": [
            "Epoch Number 111\n"
          ],
          "name": "stdout"
        },
        {
          "output_type": "stream",
          "text": [
            "100%|██████████| 128/128 [00:06<00:00, 18.76it/s]\n",
            "  2%|▏         | 2/128 [00:00<00:06, 18.37it/s]"
          ],
          "name": "stderr"
        },
        {
          "output_type": "stream",
          "text": [
            "Epoch Number 112\n"
          ],
          "name": "stdout"
        },
        {
          "output_type": "stream",
          "text": [
            "100%|██████████| 128/128 [00:06<00:00, 18.91it/s]\n",
            "  2%|▏         | 2/128 [00:00<00:06, 19.16it/s]"
          ],
          "name": "stderr"
        },
        {
          "output_type": "stream",
          "text": [
            "Epoch Number 113\n"
          ],
          "name": "stdout"
        },
        {
          "output_type": "stream",
          "text": [
            "100%|██████████| 128/128 [00:06<00:00, 18.79it/s]\n",
            "  2%|▏         | 2/128 [00:00<00:06, 18.87it/s]"
          ],
          "name": "stderr"
        },
        {
          "output_type": "stream",
          "text": [
            "Epoch Number 114\n"
          ],
          "name": "stdout"
        },
        {
          "output_type": "stream",
          "text": [
            "100%|██████████| 128/128 [00:06<00:00, 18.48it/s]\n",
            "  2%|▏         | 2/128 [00:00<00:06, 18.92it/s]"
          ],
          "name": "stderr"
        },
        {
          "output_type": "stream",
          "text": [
            "Epoch Number 115\n"
          ],
          "name": "stdout"
        },
        {
          "output_type": "stream",
          "text": [
            "100%|██████████| 128/128 [00:06<00:00, 18.81it/s]\n",
            "  2%|▏         | 2/128 [00:00<00:07, 16.59it/s]"
          ],
          "name": "stderr"
        },
        {
          "output_type": "stream",
          "text": [
            "Epoch Number 116\n"
          ],
          "name": "stdout"
        },
        {
          "output_type": "stream",
          "text": [
            "100%|██████████| 128/128 [00:06<00:00, 18.71it/s]\n",
            "  2%|▏         | 2/128 [00:00<00:07, 17.54it/s]"
          ],
          "name": "stderr"
        },
        {
          "output_type": "stream",
          "text": [
            "Epoch Number 117\n"
          ],
          "name": "stdout"
        },
        {
          "output_type": "stream",
          "text": [
            "100%|██████████| 128/128 [00:06<00:00, 18.73it/s]\n",
            "  2%|▏         | 2/128 [00:00<00:06, 19.00it/s]"
          ],
          "name": "stderr"
        },
        {
          "output_type": "stream",
          "text": [
            "Epoch Number 118\n"
          ],
          "name": "stdout"
        },
        {
          "output_type": "stream",
          "text": [
            "100%|██████████| 128/128 [00:06<00:00, 18.77it/s]\n",
            "  2%|▏         | 2/128 [00:00<00:06, 18.61it/s]"
          ],
          "name": "stderr"
        },
        {
          "output_type": "stream",
          "text": [
            "Epoch Number 119\n"
          ],
          "name": "stdout"
        },
        {
          "output_type": "stream",
          "text": [
            "100%|██████████| 128/128 [00:06<00:00, 18.48it/s]\n",
            "  2%|▏         | 2/128 [00:00<00:06, 18.64it/s]"
          ],
          "name": "stderr"
        },
        {
          "output_type": "stream",
          "text": [
            "Epoch Number 120\n"
          ],
          "name": "stdout"
        },
        {
          "output_type": "stream",
          "text": [
            "100%|██████████| 128/128 [00:06<00:00, 18.70it/s]\n",
            "  2%|▏         | 2/128 [00:00<00:07, 17.51it/s]"
          ],
          "name": "stderr"
        },
        {
          "output_type": "stream",
          "text": [
            "Epoch Number 121\n"
          ],
          "name": "stdout"
        },
        {
          "output_type": "stream",
          "text": [
            "100%|██████████| 128/128 [00:06<00:00, 18.64it/s]\n",
            "  2%|▏         | 2/128 [00:00<00:06, 18.30it/s]"
          ],
          "name": "stderr"
        },
        {
          "output_type": "stream",
          "text": [
            "Epoch Number 122\n"
          ],
          "name": "stdout"
        },
        {
          "output_type": "stream",
          "text": [
            "100%|██████████| 128/128 [00:06<00:00, 18.78it/s]\n",
            "  2%|▏         | 2/128 [00:00<00:07, 16.20it/s]"
          ],
          "name": "stderr"
        },
        {
          "output_type": "stream",
          "text": [
            "Epoch Number 123\n"
          ],
          "name": "stdout"
        },
        {
          "output_type": "stream",
          "text": [
            "100%|██████████| 128/128 [00:06<00:00, 18.77it/s]\n",
            "  2%|▏         | 2/128 [00:00<00:06, 19.51it/s]"
          ],
          "name": "stderr"
        },
        {
          "output_type": "stream",
          "text": [
            "Epoch Number 124\n"
          ],
          "name": "stdout"
        },
        {
          "output_type": "stream",
          "text": [
            "100%|██████████| 128/128 [00:06<00:00, 18.49it/s]\n",
            "  2%|▏         | 2/128 [00:00<00:06, 18.04it/s]"
          ],
          "name": "stderr"
        },
        {
          "output_type": "stream",
          "text": [
            "Epoch Number 125\n"
          ],
          "name": "stdout"
        },
        {
          "output_type": "stream",
          "text": [
            "100%|██████████| 128/128 [00:06<00:00, 18.79it/s]\n",
            "  2%|▏         | 2/128 [00:00<00:06, 19.09it/s]"
          ],
          "name": "stderr"
        },
        {
          "output_type": "stream",
          "text": [
            "Epoch Number 126\n"
          ],
          "name": "stdout"
        },
        {
          "output_type": "stream",
          "text": [
            "100%|██████████| 128/128 [00:06<00:00, 18.86it/s]\n",
            "  2%|▏         | 2/128 [00:00<00:06, 18.05it/s]"
          ],
          "name": "stderr"
        },
        {
          "output_type": "stream",
          "text": [
            "Epoch Number 127\n"
          ],
          "name": "stdout"
        },
        {
          "output_type": "stream",
          "text": [
            "100%|██████████| 128/128 [00:06<00:00, 18.74it/s]\n",
            "  2%|▏         | 2/128 [00:00<00:07, 17.95it/s]"
          ],
          "name": "stderr"
        },
        {
          "output_type": "stream",
          "text": [
            "Epoch Number 128\n"
          ],
          "name": "stdout"
        },
        {
          "output_type": "stream",
          "text": [
            "100%|██████████| 128/128 [00:06<00:00, 18.73it/s]\n",
            "  2%|▏         | 2/128 [00:00<00:06, 19.03it/s]"
          ],
          "name": "stderr"
        },
        {
          "output_type": "stream",
          "text": [
            "Epoch Number 129\n"
          ],
          "name": "stdout"
        },
        {
          "output_type": "stream",
          "text": [
            "100%|██████████| 128/128 [00:06<00:00, 18.71it/s]\n",
            "  2%|▏         | 2/128 [00:00<00:06, 18.15it/s]"
          ],
          "name": "stderr"
        },
        {
          "output_type": "stream",
          "text": [
            "Epoch Number 130\n"
          ],
          "name": "stdout"
        },
        {
          "output_type": "stream",
          "text": [
            "100%|██████████| 128/128 [00:06<00:00, 18.44it/s]\n",
            "  2%|▏         | 2/128 [00:00<00:06, 18.63it/s]"
          ],
          "name": "stderr"
        },
        {
          "output_type": "stream",
          "text": [
            "Epoch Number 131\n"
          ],
          "name": "stdout"
        },
        {
          "output_type": "stream",
          "text": [
            "100%|██████████| 128/128 [00:06<00:00, 18.76it/s]\n",
            "  2%|▏         | 2/128 [00:00<00:06, 18.37it/s]"
          ],
          "name": "stderr"
        },
        {
          "output_type": "stream",
          "text": [
            "Epoch Number 132\n"
          ],
          "name": "stdout"
        },
        {
          "output_type": "stream",
          "text": [
            "100%|██████████| 128/128 [00:06<00:00, 18.70it/s]\n",
            "  2%|▏         | 2/128 [00:00<00:06, 18.14it/s]"
          ],
          "name": "stderr"
        },
        {
          "output_type": "stream",
          "text": [
            "Epoch Number 133\n"
          ],
          "name": "stdout"
        },
        {
          "output_type": "stream",
          "text": [
            "100%|██████████| 128/128 [00:06<00:00, 18.61it/s]\n",
            "  2%|▏         | 2/128 [00:00<00:06, 19.15it/s]"
          ],
          "name": "stderr"
        },
        {
          "output_type": "stream",
          "text": [
            "Epoch Number 134\n"
          ],
          "name": "stdout"
        },
        {
          "output_type": "stream",
          "text": [
            "100%|██████████| 128/128 [00:06<00:00, 18.83it/s]\n",
            "  2%|▏         | 2/128 [00:00<00:06, 18.75it/s]"
          ],
          "name": "stderr"
        },
        {
          "output_type": "stream",
          "text": [
            "Epoch Number 135\n"
          ],
          "name": "stdout"
        },
        {
          "output_type": "stream",
          "text": [
            "100%|██████████| 128/128 [00:07<00:00, 18.18it/s]\n",
            "  2%|▏         | 2/128 [00:00<00:08, 15.74it/s]"
          ],
          "name": "stderr"
        },
        {
          "output_type": "stream",
          "text": [
            "Epoch Number 136\n"
          ],
          "name": "stdout"
        },
        {
          "output_type": "stream",
          "text": [
            "100%|██████████| 128/128 [00:06<00:00, 18.29it/s]\n",
            "  2%|▏         | 2/128 [00:00<00:06, 18.36it/s]"
          ],
          "name": "stderr"
        },
        {
          "output_type": "stream",
          "text": [
            "Epoch Number 137\n"
          ],
          "name": "stdout"
        },
        {
          "output_type": "stream",
          "text": [
            "100%|██████████| 128/128 [00:06<00:00, 18.47it/s]\n",
            "  2%|▏         | 2/128 [00:00<00:06, 18.97it/s]"
          ],
          "name": "stderr"
        },
        {
          "output_type": "stream",
          "text": [
            "Epoch Number 138\n"
          ],
          "name": "stdout"
        },
        {
          "output_type": "stream",
          "text": [
            "100%|██████████| 128/128 [00:06<00:00, 18.76it/s]\n",
            "  2%|▏         | 2/128 [00:00<00:07, 18.00it/s]"
          ],
          "name": "stderr"
        },
        {
          "output_type": "stream",
          "text": [
            "Epoch Number 139\n"
          ],
          "name": "stdout"
        },
        {
          "output_type": "stream",
          "text": [
            "100%|██████████| 128/128 [00:06<00:00, 18.85it/s]\n",
            "  2%|▏         | 2/128 [00:00<00:07, 17.87it/s]"
          ],
          "name": "stderr"
        },
        {
          "output_type": "stream",
          "text": [
            "Epoch Number 140\n"
          ],
          "name": "stdout"
        },
        {
          "output_type": "stream",
          "text": [
            "100%|██████████| 128/128 [00:06<00:00, 18.69it/s]\n",
            "  2%|▏         | 2/128 [00:00<00:06, 19.11it/s]"
          ],
          "name": "stderr"
        },
        {
          "output_type": "stream",
          "text": [
            "Epoch Number 141\n"
          ],
          "name": "stdout"
        },
        {
          "output_type": "stream",
          "text": [
            "100%|██████████| 128/128 [00:06<00:00, 18.44it/s]\n",
            "  2%|▏         | 2/128 [00:00<00:06, 18.63it/s]"
          ],
          "name": "stderr"
        },
        {
          "output_type": "stream",
          "text": [
            "Epoch Number 142\n"
          ],
          "name": "stdout"
        },
        {
          "output_type": "stream",
          "text": [
            "100%|██████████| 128/128 [00:06<00:00, 18.87it/s]\n",
            "  2%|▏         | 2/128 [00:00<00:07, 17.08it/s]"
          ],
          "name": "stderr"
        },
        {
          "output_type": "stream",
          "text": [
            "Epoch Number 143\n"
          ],
          "name": "stdout"
        },
        {
          "output_type": "stream",
          "text": [
            "100%|██████████| 128/128 [00:06<00:00, 18.65it/s]\n",
            "  2%|▏         | 2/128 [00:00<00:07, 16.78it/s]"
          ],
          "name": "stderr"
        },
        {
          "output_type": "stream",
          "text": [
            "Epoch Number 144\n"
          ],
          "name": "stdout"
        },
        {
          "output_type": "stream",
          "text": [
            "100%|██████████| 128/128 [00:06<00:00, 18.54it/s]\n",
            "  2%|▏         | 2/128 [00:00<00:06, 18.04it/s]"
          ],
          "name": "stderr"
        },
        {
          "output_type": "stream",
          "text": [
            "Epoch Number 145\n"
          ],
          "name": "stdout"
        },
        {
          "output_type": "stream",
          "text": [
            "100%|██████████| 128/128 [00:06<00:00, 18.45it/s]\n",
            "  2%|▏         | 2/128 [00:00<00:07, 17.97it/s]"
          ],
          "name": "stderr"
        },
        {
          "output_type": "stream",
          "text": [
            "Epoch Number 146\n"
          ],
          "name": "stdout"
        },
        {
          "output_type": "stream",
          "text": [
            "100%|██████████| 128/128 [00:06<00:00, 18.46it/s]\n",
            "  2%|▏         | 2/128 [00:00<00:07, 17.72it/s]"
          ],
          "name": "stderr"
        },
        {
          "output_type": "stream",
          "text": [
            "Epoch Number 147\n"
          ],
          "name": "stdout"
        },
        {
          "output_type": "stream",
          "text": [
            "100%|██████████| 128/128 [00:06<00:00, 18.75it/s]\n",
            "  2%|▏         | 2/128 [00:00<00:06, 18.88it/s]"
          ],
          "name": "stderr"
        },
        {
          "output_type": "stream",
          "text": [
            "Epoch Number 148\n"
          ],
          "name": "stdout"
        },
        {
          "output_type": "stream",
          "text": [
            "100%|██████████| 128/128 [00:06<00:00, 18.70it/s]\n",
            "  2%|▏         | 2/128 [00:00<00:06, 18.62it/s]"
          ],
          "name": "stderr"
        },
        {
          "output_type": "stream",
          "text": [
            "Epoch Number 149\n"
          ],
          "name": "stdout"
        },
        {
          "output_type": "stream",
          "text": [
            "100%|██████████| 128/128 [00:06<00:00, 18.73it/s]\n",
            "  2%|▏         | 2/128 [00:00<00:06, 19.29it/s]"
          ],
          "name": "stderr"
        },
        {
          "output_type": "stream",
          "text": [
            "Epoch Number 150\n"
          ],
          "name": "stdout"
        },
        {
          "output_type": "stream",
          "text": [
            "100%|██████████| 128/128 [00:06<00:00, 18.63it/s]\n",
            "  2%|▏         | 2/128 [00:00<00:06, 19.06it/s]"
          ],
          "name": "stderr"
        },
        {
          "output_type": "stream",
          "text": [
            "Epoch Number 151\n"
          ],
          "name": "stdout"
        },
        {
          "output_type": "stream",
          "text": [
            "100%|██████████| 128/128 [00:06<00:00, 18.46it/s]\n",
            "  2%|▏         | 2/128 [00:00<00:06, 18.29it/s]"
          ],
          "name": "stderr"
        },
        {
          "output_type": "stream",
          "text": [
            "Epoch Number 152\n"
          ],
          "name": "stdout"
        },
        {
          "output_type": "stream",
          "text": [
            "100%|██████████| 128/128 [00:06<00:00, 18.76it/s]\n",
            "  2%|▏         | 2/128 [00:00<00:07, 17.46it/s]"
          ],
          "name": "stderr"
        },
        {
          "output_type": "stream",
          "text": [
            "Epoch Number 153\n"
          ],
          "name": "stdout"
        },
        {
          "output_type": "stream",
          "text": [
            "100%|██████████| 128/128 [00:06<00:00, 18.69it/s]\n",
            "  2%|▏         | 2/128 [00:00<00:06, 19.67it/s]"
          ],
          "name": "stderr"
        },
        {
          "output_type": "stream",
          "text": [
            "Epoch Number 154\n"
          ],
          "name": "stdout"
        },
        {
          "output_type": "stream",
          "text": [
            "100%|██████████| 128/128 [00:06<00:00, 18.83it/s]\n",
            "  2%|▏         | 2/128 [00:00<00:07, 17.68it/s]"
          ],
          "name": "stderr"
        },
        {
          "output_type": "stream",
          "text": [
            "Epoch Number 155\n"
          ],
          "name": "stdout"
        },
        {
          "output_type": "stream",
          "text": [
            "100%|██████████| 128/128 [00:06<00:00, 18.60it/s]\n",
            "  2%|▏         | 2/128 [00:00<00:06, 18.18it/s]"
          ],
          "name": "stderr"
        },
        {
          "output_type": "stream",
          "text": [
            "Epoch Number 156\n"
          ],
          "name": "stdout"
        },
        {
          "output_type": "stream",
          "text": [
            "100%|██████████| 128/128 [00:07<00:00, 18.17it/s]\n",
            "  2%|▏         | 2/128 [00:00<00:06, 18.31it/s]"
          ],
          "name": "stderr"
        },
        {
          "output_type": "stream",
          "text": [
            "Epoch Number 157\n"
          ],
          "name": "stdout"
        },
        {
          "output_type": "stream",
          "text": [
            "100%|██████████| 128/128 [00:06<00:00, 18.62it/s]\n",
            "  2%|▏         | 2/128 [00:00<00:06, 18.80it/s]"
          ],
          "name": "stderr"
        },
        {
          "output_type": "stream",
          "text": [
            "Epoch Number 158\n"
          ],
          "name": "stdout"
        },
        {
          "output_type": "stream",
          "text": [
            "100%|██████████| 128/128 [00:06<00:00, 18.82it/s]\n",
            "  2%|▏         | 2/128 [00:00<00:07, 17.78it/s]"
          ],
          "name": "stderr"
        },
        {
          "output_type": "stream",
          "text": [
            "Epoch Number 159\n"
          ],
          "name": "stdout"
        },
        {
          "output_type": "stream",
          "text": [
            "100%|██████████| 128/128 [00:06<00:00, 18.85it/s]\n",
            "  2%|▏         | 2/128 [00:00<00:07, 17.97it/s]"
          ],
          "name": "stderr"
        },
        {
          "output_type": "stream",
          "text": [
            "Epoch Number 160\n"
          ],
          "name": "stdout"
        },
        {
          "output_type": "stream",
          "text": [
            "100%|██████████| 128/128 [00:06<00:00, 18.67it/s]\n",
            "  2%|▏         | 2/128 [00:00<00:06, 19.04it/s]"
          ],
          "name": "stderr"
        },
        {
          "output_type": "stream",
          "text": [
            "Epoch Number 161\n"
          ],
          "name": "stdout"
        },
        {
          "output_type": "stream",
          "text": [
            "100%|██████████| 128/128 [00:06<00:00, 18.77it/s]\n",
            "  2%|▏         | 2/128 [00:00<00:06, 19.28it/s]"
          ],
          "name": "stderr"
        },
        {
          "output_type": "stream",
          "text": [
            "Epoch Number 162\n"
          ],
          "name": "stdout"
        },
        {
          "output_type": "stream",
          "text": [
            "100%|██████████| 128/128 [00:06<00:00, 18.49it/s]\n",
            "  2%|▏         | 2/128 [00:00<00:07, 16.07it/s]"
          ],
          "name": "stderr"
        },
        {
          "output_type": "stream",
          "text": [
            "Epoch Number 163\n"
          ],
          "name": "stdout"
        },
        {
          "output_type": "stream",
          "text": [
            "100%|██████████| 128/128 [00:06<00:00, 18.68it/s]\n",
            "  2%|▏         | 2/128 [00:00<00:06, 18.95it/s]"
          ],
          "name": "stderr"
        },
        {
          "output_type": "stream",
          "text": [
            "Epoch Number 164\n"
          ],
          "name": "stdout"
        },
        {
          "output_type": "stream",
          "text": [
            "100%|██████████| 128/128 [00:06<00:00, 18.70it/s]\n",
            "  2%|▏         | 2/128 [00:00<00:06, 18.60it/s]"
          ],
          "name": "stderr"
        },
        {
          "output_type": "stream",
          "text": [
            "Epoch Number 165\n"
          ],
          "name": "stdout"
        },
        {
          "output_type": "stream",
          "text": [
            "100%|██████████| 128/128 [00:06<00:00, 18.75it/s]\n",
            "  2%|▏         | 2/128 [00:00<00:06, 19.26it/s]"
          ],
          "name": "stderr"
        },
        {
          "output_type": "stream",
          "text": [
            "Epoch Number 166\n"
          ],
          "name": "stdout"
        },
        {
          "output_type": "stream",
          "text": [
            "100%|██████████| 128/128 [00:06<00:00, 18.54it/s]\n",
            "  2%|▏         | 2/128 [00:00<00:06, 18.39it/s]"
          ],
          "name": "stderr"
        },
        {
          "output_type": "stream",
          "text": [
            "Epoch Number 167\n"
          ],
          "name": "stdout"
        },
        {
          "output_type": "stream",
          "text": [
            "100%|██████████| 128/128 [00:07<00:00, 18.24it/s]\n",
            "  2%|▏         | 2/128 [00:00<00:06, 18.58it/s]"
          ],
          "name": "stderr"
        },
        {
          "output_type": "stream",
          "text": [
            "Epoch Number 168\n"
          ],
          "name": "stdout"
        },
        {
          "output_type": "stream",
          "text": [
            "100%|██████████| 128/128 [00:06<00:00, 18.70it/s]\n",
            "  2%|▏         | 2/128 [00:00<00:06, 19.64it/s]"
          ],
          "name": "stderr"
        },
        {
          "output_type": "stream",
          "text": [
            "Epoch Number 169\n"
          ],
          "name": "stdout"
        },
        {
          "output_type": "stream",
          "text": [
            "100%|██████████| 128/128 [00:06<00:00, 19.00it/s]\n",
            "  2%|▏         | 2/128 [00:00<00:06, 19.06it/s]"
          ],
          "name": "stderr"
        },
        {
          "output_type": "stream",
          "text": [
            "Epoch Number 170\n"
          ],
          "name": "stdout"
        },
        {
          "output_type": "stream",
          "text": [
            "100%|██████████| 128/128 [00:06<00:00, 18.64it/s]\n",
            "  2%|▏         | 2/128 [00:00<00:06, 18.05it/s]"
          ],
          "name": "stderr"
        },
        {
          "output_type": "stream",
          "text": [
            "Epoch Number 171\n"
          ],
          "name": "stdout"
        },
        {
          "output_type": "stream",
          "text": [
            "100%|██████████| 128/128 [00:06<00:00, 18.70it/s]\n",
            "  2%|▏         | 2/128 [00:00<00:06, 19.04it/s]"
          ],
          "name": "stderr"
        },
        {
          "output_type": "stream",
          "text": [
            "Epoch Number 172\n"
          ],
          "name": "stdout"
        },
        {
          "output_type": "stream",
          "text": [
            "100%|██████████| 128/128 [00:06<00:00, 18.39it/s]\n",
            "  2%|▏         | 2/128 [00:00<00:06, 18.63it/s]"
          ],
          "name": "stderr"
        },
        {
          "output_type": "stream",
          "text": [
            "Epoch Number 173\n"
          ],
          "name": "stdout"
        },
        {
          "output_type": "stream",
          "text": [
            "100%|██████████| 128/128 [00:06<00:00, 18.76it/s]\n",
            "  2%|▏         | 2/128 [00:00<00:06, 18.02it/s]"
          ],
          "name": "stderr"
        },
        {
          "output_type": "stream",
          "text": [
            "Epoch Number 174\n"
          ],
          "name": "stdout"
        },
        {
          "output_type": "stream",
          "text": [
            "100%|██████████| 128/128 [00:06<00:00, 18.73it/s]\n",
            "  2%|▏         | 2/128 [00:00<00:06, 18.27it/s]"
          ],
          "name": "stderr"
        },
        {
          "output_type": "stream",
          "text": [
            "Epoch Number 175\n"
          ],
          "name": "stdout"
        },
        {
          "output_type": "stream",
          "text": [
            "100%|██████████| 128/128 [00:06<00:00, 18.72it/s]\n",
            "  2%|▏         | 2/128 [00:00<00:06, 18.07it/s]"
          ],
          "name": "stderr"
        },
        {
          "output_type": "stream",
          "text": [
            "Epoch Number 176\n"
          ],
          "name": "stdout"
        },
        {
          "output_type": "stream",
          "text": [
            "100%|██████████| 128/128 [00:06<00:00, 18.78it/s]\n",
            "  2%|▏         | 2/128 [00:00<00:06, 18.69it/s]"
          ],
          "name": "stderr"
        },
        {
          "output_type": "stream",
          "text": [
            "Epoch Number 177\n"
          ],
          "name": "stdout"
        },
        {
          "output_type": "stream",
          "text": [
            "100%|██████████| 128/128 [00:06<00:00, 18.81it/s]\n",
            "  2%|▏         | 2/128 [00:00<00:06, 19.92it/s]"
          ],
          "name": "stderr"
        },
        {
          "output_type": "stream",
          "text": [
            "Epoch Number 178\n"
          ],
          "name": "stdout"
        },
        {
          "output_type": "stream",
          "text": [
            "100%|██████████| 128/128 [00:06<00:00, 18.32it/s]\n",
            "  2%|▏         | 2/128 [00:00<00:07, 17.14it/s]"
          ],
          "name": "stderr"
        },
        {
          "output_type": "stream",
          "text": [
            "Epoch Number 179\n"
          ],
          "name": "stdout"
        },
        {
          "output_type": "stream",
          "text": [
            "100%|██████████| 128/128 [00:06<00:00, 18.50it/s]\n",
            "  2%|▏         | 2/128 [00:00<00:06, 19.12it/s]"
          ],
          "name": "stderr"
        },
        {
          "output_type": "stream",
          "text": [
            "Epoch Number 180\n"
          ],
          "name": "stdout"
        },
        {
          "output_type": "stream",
          "text": [
            "100%|██████████| 128/128 [00:06<00:00, 18.52it/s]\n",
            "  2%|▏         | 2/128 [00:00<00:06, 18.29it/s]"
          ],
          "name": "stderr"
        },
        {
          "output_type": "stream",
          "text": [
            "Epoch Number 181\n"
          ],
          "name": "stdout"
        },
        {
          "output_type": "stream",
          "text": [
            "100%|██████████| 128/128 [00:07<00:00, 18.06it/s]\n",
            "  2%|▏         | 2/128 [00:00<00:07, 16.92it/s]"
          ],
          "name": "stderr"
        },
        {
          "output_type": "stream",
          "text": [
            "Epoch Number 182\n"
          ],
          "name": "stdout"
        },
        {
          "output_type": "stream",
          "text": [
            "100%|██████████| 128/128 [00:06<00:00, 18.32it/s]\n",
            "  2%|▏         | 2/128 [00:00<00:06, 18.13it/s]"
          ],
          "name": "stderr"
        },
        {
          "output_type": "stream",
          "text": [
            "Epoch Number 183\n"
          ],
          "name": "stdout"
        },
        {
          "output_type": "stream",
          "text": [
            "100%|██████████| 128/128 [00:06<00:00, 18.35it/s]\n",
            "  2%|▏         | 2/128 [00:00<00:07, 17.16it/s]"
          ],
          "name": "stderr"
        },
        {
          "output_type": "stream",
          "text": [
            "Epoch Number 184\n"
          ],
          "name": "stdout"
        },
        {
          "output_type": "stream",
          "text": [
            "100%|██████████| 128/128 [00:06<00:00, 18.59it/s]\n",
            "  2%|▏         | 2/128 [00:00<00:07, 17.51it/s]"
          ],
          "name": "stderr"
        },
        {
          "output_type": "stream",
          "text": [
            "Epoch Number 185\n"
          ],
          "name": "stdout"
        },
        {
          "output_type": "stream",
          "text": [
            "100%|██████████| 128/128 [00:06<00:00, 18.76it/s]\n",
            "  2%|▏         | 2/128 [00:00<00:06, 19.03it/s]"
          ],
          "name": "stderr"
        },
        {
          "output_type": "stream",
          "text": [
            "Epoch Number 186\n"
          ],
          "name": "stdout"
        },
        {
          "output_type": "stream",
          "text": [
            "100%|██████████| 128/128 [00:06<00:00, 18.70it/s]\n",
            "  2%|▏         | 2/128 [00:00<00:06, 18.14it/s]"
          ],
          "name": "stderr"
        },
        {
          "output_type": "stream",
          "text": [
            "Epoch Number 187\n"
          ],
          "name": "stdout"
        },
        {
          "output_type": "stream",
          "text": [
            "100%|██████████| 128/128 [00:06<00:00, 18.68it/s]\n",
            "  2%|▏         | 2/128 [00:00<00:06, 18.97it/s]"
          ],
          "name": "stderr"
        },
        {
          "output_type": "stream",
          "text": [
            "Epoch Number 188\n"
          ],
          "name": "stdout"
        },
        {
          "output_type": "stream",
          "text": [
            "100%|██████████| 128/128 [00:06<00:00, 18.41it/s]\n",
            "  2%|▏         | 2/128 [00:00<00:06, 18.83it/s]"
          ],
          "name": "stderr"
        },
        {
          "output_type": "stream",
          "text": [
            "Epoch Number 189\n"
          ],
          "name": "stdout"
        },
        {
          "output_type": "stream",
          "text": [
            "100%|██████████| 128/128 [00:07<00:00, 18.24it/s]\n",
            "  2%|▏         | 2/128 [00:00<00:07, 17.18it/s]"
          ],
          "name": "stderr"
        },
        {
          "output_type": "stream",
          "text": [
            "Epoch Number 190\n"
          ],
          "name": "stdout"
        },
        {
          "output_type": "stream",
          "text": [
            "100%|██████████| 128/128 [00:06<00:00, 18.40it/s]\n",
            "  2%|▏         | 2/128 [00:00<00:06, 18.22it/s]"
          ],
          "name": "stderr"
        },
        {
          "output_type": "stream",
          "text": [
            "Epoch Number 191\n"
          ],
          "name": "stdout"
        },
        {
          "output_type": "stream",
          "text": [
            "100%|██████████| 128/128 [00:06<00:00, 18.67it/s]\n",
            "  2%|▏         | 2/128 [00:00<00:06, 18.69it/s]"
          ],
          "name": "stderr"
        },
        {
          "output_type": "stream",
          "text": [
            "Epoch Number 192\n"
          ],
          "name": "stdout"
        },
        {
          "output_type": "stream",
          "text": [
            "100%|██████████| 128/128 [00:06<00:00, 18.36it/s]\n",
            "  2%|▏         | 2/128 [00:00<00:06, 18.98it/s]"
          ],
          "name": "stderr"
        },
        {
          "output_type": "stream",
          "text": [
            "Epoch Number 193\n"
          ],
          "name": "stdout"
        },
        {
          "output_type": "stream",
          "text": [
            "100%|██████████| 128/128 [00:06<00:00, 18.66it/s]\n",
            "  2%|▏         | 2/128 [00:00<00:06, 18.05it/s]"
          ],
          "name": "stderr"
        },
        {
          "output_type": "stream",
          "text": [
            "Epoch Number 194\n"
          ],
          "name": "stdout"
        },
        {
          "output_type": "stream",
          "text": [
            "100%|██████████| 128/128 [00:07<00:00, 18.22it/s]\n",
            "  2%|▏         | 2/128 [00:00<00:07, 17.08it/s]"
          ],
          "name": "stderr"
        },
        {
          "output_type": "stream",
          "text": [
            "Epoch Number 195\n"
          ],
          "name": "stdout"
        },
        {
          "output_type": "stream",
          "text": [
            "100%|██████████| 128/128 [00:06<00:00, 18.71it/s]\n",
            "  2%|▏         | 2/128 [00:00<00:06, 18.97it/s]"
          ],
          "name": "stderr"
        },
        {
          "output_type": "stream",
          "text": [
            "Epoch Number 196\n"
          ],
          "name": "stdout"
        },
        {
          "output_type": "stream",
          "text": [
            "100%|██████████| 128/128 [00:06<00:00, 18.49it/s]\n",
            "  2%|▏         | 2/128 [00:00<00:06, 18.65it/s]"
          ],
          "name": "stderr"
        },
        {
          "output_type": "stream",
          "text": [
            "Epoch Number 197\n"
          ],
          "name": "stdout"
        },
        {
          "output_type": "stream",
          "text": [
            "100%|██████████| 128/128 [00:06<00:00, 18.50it/s]\n",
            "  2%|▏         | 2/128 [00:00<00:07, 17.59it/s]"
          ],
          "name": "stderr"
        },
        {
          "output_type": "stream",
          "text": [
            "Epoch Number 198\n"
          ],
          "name": "stdout"
        },
        {
          "output_type": "stream",
          "text": [
            "100%|██████████| 128/128 [00:06<00:00, 18.41it/s]\n",
            "  2%|▏         | 2/128 [00:00<00:06, 18.86it/s]"
          ],
          "name": "stderr"
        },
        {
          "output_type": "stream",
          "text": [
            "Epoch Number 199\n"
          ],
          "name": "stdout"
        },
        {
          "output_type": "stream",
          "text": [
            "100%|██████████| 128/128 [00:07<00:00, 18.28it/s]\n",
            "  2%|▏         | 2/128 [00:00<00:06, 18.16it/s]"
          ],
          "name": "stderr"
        },
        {
          "output_type": "stream",
          "text": [
            "Epoch Number 200\n"
          ],
          "name": "stdout"
        },
        {
          "output_type": "stream",
          "text": [
            "100%|██████████| 128/128 [00:06<00:00, 18.58it/s]\n",
            "  2%|▏         | 2/128 [00:00<00:06, 18.44it/s]"
          ],
          "name": "stderr"
        },
        {
          "output_type": "stream",
          "text": [
            "Epoch Number 201\n"
          ],
          "name": "stdout"
        },
        {
          "output_type": "stream",
          "text": [
            "100%|██████████| 128/128 [00:06<00:00, 18.46it/s]\n",
            "  2%|▏         | 2/128 [00:00<00:07, 17.00it/s]"
          ],
          "name": "stderr"
        },
        {
          "output_type": "stream",
          "text": [
            "Epoch Number 202\n"
          ],
          "name": "stdout"
        },
        {
          "output_type": "stream",
          "text": [
            "100%|██████████| 128/128 [00:07<00:00, 18.20it/s]\n",
            "  2%|▏         | 2/128 [00:00<00:07, 17.74it/s]"
          ],
          "name": "stderr"
        },
        {
          "output_type": "stream",
          "text": [
            "Epoch Number 203\n"
          ],
          "name": "stdout"
        },
        {
          "output_type": "stream",
          "text": [
            "100%|██████████| 128/128 [00:06<00:00, 18.40it/s]\n",
            "  2%|▏         | 2/128 [00:00<00:07, 17.60it/s]"
          ],
          "name": "stderr"
        },
        {
          "output_type": "stream",
          "text": [
            "Epoch Number 204\n"
          ],
          "name": "stdout"
        },
        {
          "output_type": "stream",
          "text": [
            "100%|██████████| 128/128 [00:07<00:00, 18.17it/s]\n",
            "  2%|▏         | 2/128 [00:00<00:06, 18.36it/s]"
          ],
          "name": "stderr"
        },
        {
          "output_type": "stream",
          "text": [
            "Epoch Number 205\n"
          ],
          "name": "stdout"
        },
        {
          "output_type": "stream",
          "text": [
            "100%|██████████| 128/128 [00:06<00:00, 18.62it/s]\n",
            "  2%|▏         | 2/128 [00:00<00:07, 16.99it/s]"
          ],
          "name": "stderr"
        },
        {
          "output_type": "stream",
          "text": [
            "Epoch Number 206\n"
          ],
          "name": "stdout"
        },
        {
          "output_type": "stream",
          "text": [
            "100%|██████████| 128/128 [00:06<00:00, 18.55it/s]\n",
            "  2%|▏         | 2/128 [00:00<00:07, 17.93it/s]"
          ],
          "name": "stderr"
        },
        {
          "output_type": "stream",
          "text": [
            "Epoch Number 207\n"
          ],
          "name": "stdout"
        },
        {
          "output_type": "stream",
          "text": [
            "100%|██████████| 128/128 [00:06<00:00, 18.55it/s]\n",
            "  2%|▏         | 2/128 [00:00<00:06, 18.87it/s]"
          ],
          "name": "stderr"
        },
        {
          "output_type": "stream",
          "text": [
            "Epoch Number 208\n"
          ],
          "name": "stdout"
        },
        {
          "output_type": "stream",
          "text": [
            "100%|██████████| 128/128 [00:06<00:00, 18.68it/s]\n",
            "  2%|▏         | 2/128 [00:00<00:07, 17.18it/s]"
          ],
          "name": "stderr"
        },
        {
          "output_type": "stream",
          "text": [
            "Epoch Number 209\n"
          ],
          "name": "stdout"
        },
        {
          "output_type": "stream",
          "text": [
            "100%|██████████| 128/128 [00:06<00:00, 18.56it/s]\n",
            "  2%|▏         | 2/128 [00:00<00:07, 17.54it/s]"
          ],
          "name": "stderr"
        },
        {
          "output_type": "stream",
          "text": [
            "Epoch Number 210\n"
          ],
          "name": "stdout"
        },
        {
          "output_type": "stream",
          "text": [
            "100%|██████████| 128/128 [00:07<00:00, 18.20it/s]\n",
            "  2%|▏         | 2/128 [00:00<00:06, 18.15it/s]"
          ],
          "name": "stderr"
        },
        {
          "output_type": "stream",
          "text": [
            "Epoch Number 211\n"
          ],
          "name": "stdout"
        },
        {
          "output_type": "stream",
          "text": [
            "100%|██████████| 128/128 [00:06<00:00, 18.67it/s]\n",
            "  2%|▏         | 2/128 [00:00<00:07, 16.87it/s]"
          ],
          "name": "stderr"
        },
        {
          "output_type": "stream",
          "text": [
            "Epoch Number 212\n"
          ],
          "name": "stdout"
        },
        {
          "output_type": "stream",
          "text": [
            "100%|██████████| 128/128 [00:06<00:00, 18.56it/s]\n",
            "  2%|▏         | 2/128 [00:00<00:06, 18.35it/s]"
          ],
          "name": "stderr"
        },
        {
          "output_type": "stream",
          "text": [
            "Epoch Number 213\n"
          ],
          "name": "stdout"
        },
        {
          "output_type": "stream",
          "text": [
            "100%|██████████| 128/128 [00:06<00:00, 18.56it/s]\n",
            "  2%|▏         | 2/128 [00:00<00:07, 17.08it/s]"
          ],
          "name": "stderr"
        },
        {
          "output_type": "stream",
          "text": [
            "Epoch Number 214\n"
          ],
          "name": "stdout"
        },
        {
          "output_type": "stream",
          "text": [
            "100%|██████████| 128/128 [00:06<00:00, 18.51it/s]\n",
            "  2%|▏         | 2/128 [00:00<00:06, 18.75it/s]"
          ],
          "name": "stderr"
        },
        {
          "output_type": "stream",
          "text": [
            "Epoch Number 215\n"
          ],
          "name": "stdout"
        },
        {
          "output_type": "stream",
          "text": [
            "100%|██████████| 128/128 [00:07<00:00, 18.11it/s]\n",
            "  2%|▏         | 2/128 [00:00<00:07, 17.75it/s]"
          ],
          "name": "stderr"
        },
        {
          "output_type": "stream",
          "text": [
            "Epoch Number 216\n"
          ],
          "name": "stdout"
        },
        {
          "output_type": "stream",
          "text": [
            "100%|██████████| 128/128 [00:06<00:00, 18.59it/s]\n",
            "  2%|▏         | 2/128 [00:00<00:06, 18.26it/s]"
          ],
          "name": "stderr"
        },
        {
          "output_type": "stream",
          "text": [
            "Epoch Number 217\n"
          ],
          "name": "stdout"
        },
        {
          "output_type": "stream",
          "text": [
            "100%|██████████| 128/128 [00:06<00:00, 18.52it/s]\n",
            "  2%|▏         | 2/128 [00:00<00:07, 17.75it/s]"
          ],
          "name": "stderr"
        },
        {
          "output_type": "stream",
          "text": [
            "Epoch Number 218\n"
          ],
          "name": "stdout"
        },
        {
          "output_type": "stream",
          "text": [
            "100%|██████████| 128/128 [00:06<00:00, 18.60it/s]\n",
            "  2%|▏         | 2/128 [00:00<00:06, 18.38it/s]"
          ],
          "name": "stderr"
        },
        {
          "output_type": "stream",
          "text": [
            "Epoch Number 219\n"
          ],
          "name": "stdout"
        },
        {
          "output_type": "stream",
          "text": [
            "100%|██████████| 128/128 [00:06<00:00, 18.68it/s]\n",
            "  2%|▏         | 2/128 [00:00<00:06, 18.11it/s]"
          ],
          "name": "stderr"
        },
        {
          "output_type": "stream",
          "text": [
            "Epoch Number 220\n"
          ],
          "name": "stdout"
        },
        {
          "output_type": "stream",
          "text": [
            "100%|██████████| 128/128 [00:07<00:00, 18.17it/s]\n",
            "  2%|▏         | 2/128 [00:00<00:06, 19.00it/s]"
          ],
          "name": "stderr"
        },
        {
          "output_type": "stream",
          "text": [
            "Epoch Number 221\n"
          ],
          "name": "stdout"
        },
        {
          "output_type": "stream",
          "text": [
            "100%|██████████| 128/128 [00:06<00:00, 18.60it/s]\n",
            "  2%|▏         | 2/128 [00:00<00:06, 18.03it/s]"
          ],
          "name": "stderr"
        },
        {
          "output_type": "stream",
          "text": [
            "Epoch Number 222\n"
          ],
          "name": "stdout"
        },
        {
          "output_type": "stream",
          "text": [
            "100%|██████████| 128/128 [00:06<00:00, 18.59it/s]\n",
            "  2%|▏         | 2/128 [00:00<00:06, 18.43it/s]"
          ],
          "name": "stderr"
        },
        {
          "output_type": "stream",
          "text": [
            "Epoch Number 223\n"
          ],
          "name": "stdout"
        },
        {
          "output_type": "stream",
          "text": [
            "100%|██████████| 128/128 [00:06<00:00, 18.51it/s]\n",
            "  2%|▏         | 2/128 [00:00<00:07, 17.90it/s]"
          ],
          "name": "stderr"
        },
        {
          "output_type": "stream",
          "text": [
            "Epoch Number 224\n"
          ],
          "name": "stdout"
        },
        {
          "output_type": "stream",
          "text": [
            "100%|██████████| 128/128 [00:06<00:00, 18.44it/s]\n",
            "  2%|▏         | 2/128 [00:00<00:07, 17.97it/s]"
          ],
          "name": "stderr"
        },
        {
          "output_type": "stream",
          "text": [
            "Epoch Number 225\n"
          ],
          "name": "stdout"
        },
        {
          "output_type": "stream",
          "text": [
            "100%|██████████| 128/128 [00:06<00:00, 18.31it/s]\n",
            "  2%|▏         | 2/128 [00:00<00:07, 17.41it/s]"
          ],
          "name": "stderr"
        },
        {
          "output_type": "stream",
          "text": [
            "Epoch Number 226\n"
          ],
          "name": "stdout"
        },
        {
          "output_type": "stream",
          "text": [
            "100%|██████████| 128/128 [00:07<00:00, 17.62it/s]\n",
            "  2%|▏         | 2/128 [00:00<00:06, 18.48it/s]"
          ],
          "name": "stderr"
        },
        {
          "output_type": "stream",
          "text": [
            "Epoch Number 227\n"
          ],
          "name": "stdout"
        },
        {
          "output_type": "stream",
          "text": [
            "100%|██████████| 128/128 [00:07<00:00, 18.25it/s]\n",
            "  2%|▏         | 2/128 [00:00<00:06, 18.95it/s]"
          ],
          "name": "stderr"
        },
        {
          "output_type": "stream",
          "text": [
            "Epoch Number 228\n"
          ],
          "name": "stdout"
        },
        {
          "output_type": "stream",
          "text": [
            "100%|██████████| 128/128 [00:06<00:00, 18.62it/s]\n",
            "  2%|▏         | 2/128 [00:00<00:07, 17.63it/s]"
          ],
          "name": "stderr"
        },
        {
          "output_type": "stream",
          "text": [
            "Epoch Number 229\n"
          ],
          "name": "stdout"
        },
        {
          "output_type": "stream",
          "text": [
            "100%|██████████| 128/128 [00:06<00:00, 18.62it/s]\n",
            "  2%|▏         | 2/128 [00:00<00:07, 17.02it/s]"
          ],
          "name": "stderr"
        },
        {
          "output_type": "stream",
          "text": [
            "Epoch Number 230\n"
          ],
          "name": "stdout"
        },
        {
          "output_type": "stream",
          "text": [
            "100%|██████████| 128/128 [00:06<00:00, 18.53it/s]\n",
            "  2%|▏         | 2/128 [00:00<00:06, 18.61it/s]"
          ],
          "name": "stderr"
        },
        {
          "output_type": "stream",
          "text": [
            "Epoch Number 231\n"
          ],
          "name": "stdout"
        },
        {
          "output_type": "stream",
          "text": [
            "100%|██████████| 128/128 [00:07<00:00, 18.22it/s]\n",
            "  2%|▏         | 2/128 [00:00<00:07, 17.98it/s]"
          ],
          "name": "stderr"
        },
        {
          "output_type": "stream",
          "text": [
            "Epoch Number 232\n"
          ],
          "name": "stdout"
        },
        {
          "output_type": "stream",
          "text": [
            "100%|██████████| 128/128 [00:06<00:00, 18.55it/s]\n",
            "  2%|▏         | 2/128 [00:00<00:06, 18.39it/s]"
          ],
          "name": "stderr"
        },
        {
          "output_type": "stream",
          "text": [
            "Epoch Number 233\n"
          ],
          "name": "stdout"
        },
        {
          "output_type": "stream",
          "text": [
            "100%|██████████| 128/128 [00:06<00:00, 18.35it/s]\n",
            "  2%|▏         | 2/128 [00:00<00:06, 18.65it/s]"
          ],
          "name": "stderr"
        },
        {
          "output_type": "stream",
          "text": [
            "Epoch Number 234\n"
          ],
          "name": "stdout"
        },
        {
          "output_type": "stream",
          "text": [
            "100%|██████████| 128/128 [00:06<00:00, 18.32it/s]\n",
            "  2%|▏         | 2/128 [00:00<00:07, 17.41it/s]"
          ],
          "name": "stderr"
        },
        {
          "output_type": "stream",
          "text": [
            "Epoch Number 235\n"
          ],
          "name": "stdout"
        },
        {
          "output_type": "stream",
          "text": [
            "100%|██████████| 128/128 [00:06<00:00, 18.51it/s]\n",
            "  2%|▏         | 2/128 [00:00<00:07, 17.04it/s]"
          ],
          "name": "stderr"
        },
        {
          "output_type": "stream",
          "text": [
            "Epoch Number 236\n"
          ],
          "name": "stdout"
        },
        {
          "output_type": "stream",
          "text": [
            "100%|██████████| 128/128 [00:07<00:00, 18.14it/s]\n",
            "  2%|▏         | 2/128 [00:00<00:06, 18.15it/s]"
          ],
          "name": "stderr"
        },
        {
          "output_type": "stream",
          "text": [
            "Epoch Number 237\n"
          ],
          "name": "stdout"
        },
        {
          "output_type": "stream",
          "text": [
            "100%|██████████| 128/128 [00:07<00:00, 18.17it/s]\n",
            "  2%|▏         | 2/128 [00:00<00:07, 16.52it/s]"
          ],
          "name": "stderr"
        },
        {
          "output_type": "stream",
          "text": [
            "Epoch Number 238\n"
          ],
          "name": "stdout"
        },
        {
          "output_type": "stream",
          "text": [
            "100%|██████████| 128/128 [00:06<00:00, 18.36it/s]\n",
            "  2%|▏         | 2/128 [00:00<00:06, 18.60it/s]"
          ],
          "name": "stderr"
        },
        {
          "output_type": "stream",
          "text": [
            "Epoch Number 239\n"
          ],
          "name": "stdout"
        },
        {
          "output_type": "stream",
          "text": [
            "100%|██████████| 128/128 [00:07<00:00, 18.27it/s]\n",
            "  2%|▏         | 2/128 [00:00<00:06, 18.10it/s]"
          ],
          "name": "stderr"
        },
        {
          "output_type": "stream",
          "text": [
            "Epoch Number 240\n"
          ],
          "name": "stdout"
        },
        {
          "output_type": "stream",
          "text": [
            "100%|██████████| 128/128 [00:06<00:00, 18.47it/s]\n",
            "  2%|▏         | 2/128 [00:00<00:07, 16.56it/s]"
          ],
          "name": "stderr"
        },
        {
          "output_type": "stream",
          "text": [
            "Epoch Number 241\n"
          ],
          "name": "stdout"
        },
        {
          "output_type": "stream",
          "text": [
            "100%|██████████| 128/128 [00:06<00:00, 18.41it/s]\n",
            "  2%|▏         | 2/128 [00:00<00:07, 17.86it/s]"
          ],
          "name": "stderr"
        },
        {
          "output_type": "stream",
          "text": [
            "Epoch Number 242\n"
          ],
          "name": "stdout"
        },
        {
          "output_type": "stream",
          "text": [
            "100%|██████████| 128/128 [00:07<00:00, 18.17it/s]\n",
            "  2%|▏         | 2/128 [00:00<00:06, 18.91it/s]"
          ],
          "name": "stderr"
        },
        {
          "output_type": "stream",
          "text": [
            "Epoch Number 243\n"
          ],
          "name": "stdout"
        },
        {
          "output_type": "stream",
          "text": [
            "100%|██████████| 128/128 [00:06<00:00, 18.41it/s]\n",
            "  2%|▏         | 2/128 [00:00<00:06, 18.76it/s]"
          ],
          "name": "stderr"
        },
        {
          "output_type": "stream",
          "text": [
            "Epoch Number 244\n"
          ],
          "name": "stdout"
        },
        {
          "output_type": "stream",
          "text": [
            "100%|██████████| 128/128 [00:06<00:00, 18.52it/s]\n",
            "  2%|▏         | 2/128 [00:00<00:06, 18.10it/s]"
          ],
          "name": "stderr"
        },
        {
          "output_type": "stream",
          "text": [
            "Epoch Number 245\n"
          ],
          "name": "stdout"
        },
        {
          "output_type": "stream",
          "text": [
            "100%|██████████| 128/128 [00:06<00:00, 18.46it/s]\n",
            "  2%|▏         | 2/128 [00:00<00:07, 17.02it/s]"
          ],
          "name": "stderr"
        },
        {
          "output_type": "stream",
          "text": [
            "Epoch Number 246\n"
          ],
          "name": "stdout"
        },
        {
          "output_type": "stream",
          "text": [
            "100%|██████████| 128/128 [00:06<00:00, 18.56it/s]\n",
            "  2%|▏         | 2/128 [00:00<00:06, 18.72it/s]"
          ],
          "name": "stderr"
        },
        {
          "output_type": "stream",
          "text": [
            "Epoch Number 247\n"
          ],
          "name": "stdout"
        },
        {
          "output_type": "stream",
          "text": [
            "100%|██████████| 128/128 [00:07<00:00, 17.98it/s]\n",
            "  2%|▏         | 2/128 [00:00<00:06, 18.41it/s]"
          ],
          "name": "stderr"
        },
        {
          "output_type": "stream",
          "text": [
            "Epoch Number 248\n"
          ],
          "name": "stdout"
        },
        {
          "output_type": "stream",
          "text": [
            "100%|██████████| 128/128 [00:06<00:00, 18.31it/s]\n",
            "  2%|▏         | 2/128 [00:00<00:07, 16.70it/s]"
          ],
          "name": "stderr"
        },
        {
          "output_type": "stream",
          "text": [
            "Epoch Number 249\n"
          ],
          "name": "stdout"
        },
        {
          "output_type": "stream",
          "text": [
            "100%|██████████| 128/128 [00:07<00:00, 18.26it/s]\n",
            "  2%|▏         | 2/128 [00:00<00:07, 17.39it/s]"
          ],
          "name": "stderr"
        },
        {
          "output_type": "stream",
          "text": [
            "Epoch Number 250\n"
          ],
          "name": "stdout"
        },
        {
          "output_type": "stream",
          "text": [
            "100%|██████████| 128/128 [00:07<00:00, 18.26it/s]\n",
            "  2%|▏         | 2/128 [00:00<00:06, 18.54it/s]"
          ],
          "name": "stderr"
        },
        {
          "output_type": "stream",
          "text": [
            "Epoch Number 251\n"
          ],
          "name": "stdout"
        },
        {
          "output_type": "stream",
          "text": [
            "100%|██████████| 128/128 [00:06<00:00, 18.47it/s]\n",
            "  2%|▏         | 2/128 [00:00<00:06, 18.34it/s]"
          ],
          "name": "stderr"
        },
        {
          "output_type": "stream",
          "text": [
            "Epoch Number 252\n"
          ],
          "name": "stdout"
        },
        {
          "output_type": "stream",
          "text": [
            "100%|██████████| 128/128 [00:07<00:00, 18.10it/s]\n",
            "  2%|▏         | 2/128 [00:00<00:06, 18.01it/s]"
          ],
          "name": "stderr"
        },
        {
          "output_type": "stream",
          "text": [
            "Epoch Number 253\n"
          ],
          "name": "stdout"
        },
        {
          "output_type": "stream",
          "text": [
            "100%|██████████| 128/128 [00:06<00:00, 18.46it/s]\n",
            "  2%|▏         | 2/128 [00:00<00:07, 17.15it/s]"
          ],
          "name": "stderr"
        },
        {
          "output_type": "stream",
          "text": [
            "Epoch Number 254\n"
          ],
          "name": "stdout"
        },
        {
          "output_type": "stream",
          "text": [
            "100%|██████████| 128/128 [00:06<00:00, 18.50it/s]\n",
            "  2%|▏         | 2/128 [00:00<00:06, 18.19it/s]"
          ],
          "name": "stderr"
        },
        {
          "output_type": "stream",
          "text": [
            "Epoch Number 255\n"
          ],
          "name": "stdout"
        },
        {
          "output_type": "stream",
          "text": [
            "100%|██████████| 128/128 [00:06<00:00, 18.47it/s]\n",
            "  2%|▏         | 2/128 [00:00<00:06, 18.82it/s]"
          ],
          "name": "stderr"
        },
        {
          "output_type": "stream",
          "text": [
            "Epoch Number 256\n"
          ],
          "name": "stdout"
        },
        {
          "output_type": "stream",
          "text": [
            "100%|██████████| 128/128 [00:06<00:00, 18.47it/s]\n",
            "  2%|▏         | 2/128 [00:00<00:07, 16.35it/s]"
          ],
          "name": "stderr"
        },
        {
          "output_type": "stream",
          "text": [
            "Epoch Number 257\n"
          ],
          "name": "stdout"
        },
        {
          "output_type": "stream",
          "text": [
            "100%|██████████| 128/128 [00:06<00:00, 18.32it/s]\n",
            "  2%|▏         | 2/128 [00:00<00:07, 17.29it/s]"
          ],
          "name": "stderr"
        },
        {
          "output_type": "stream",
          "text": [
            "Epoch Number 258\n"
          ],
          "name": "stdout"
        },
        {
          "output_type": "stream",
          "text": [
            "100%|██████████| 128/128 [00:07<00:00, 18.05it/s]\n",
            "  2%|▏         | 2/128 [00:00<00:07, 17.56it/s]"
          ],
          "name": "stderr"
        },
        {
          "output_type": "stream",
          "text": [
            "Epoch Number 259\n"
          ],
          "name": "stdout"
        },
        {
          "output_type": "stream",
          "text": [
            "100%|██████████| 128/128 [00:06<00:00, 18.39it/s]\n",
            "  2%|▏         | 2/128 [00:00<00:06, 18.67it/s]"
          ],
          "name": "stderr"
        },
        {
          "output_type": "stream",
          "text": [
            "Epoch Number 260\n"
          ],
          "name": "stdout"
        },
        {
          "output_type": "stream",
          "text": [
            "100%|██████████| 128/128 [00:07<00:00, 18.23it/s]\n",
            "  2%|▏         | 2/128 [00:00<00:07, 17.43it/s]"
          ],
          "name": "stderr"
        },
        {
          "output_type": "stream",
          "text": [
            "Epoch Number 261\n"
          ],
          "name": "stdout"
        },
        {
          "output_type": "stream",
          "text": [
            "100%|██████████| 128/128 [00:07<00:00, 18.19it/s]\n",
            "  2%|▏         | 2/128 [00:00<00:07, 16.41it/s]"
          ],
          "name": "stderr"
        },
        {
          "output_type": "stream",
          "text": [
            "Epoch Number 262\n"
          ],
          "name": "stdout"
        },
        {
          "output_type": "stream",
          "text": [
            "100%|██████████| 128/128 [00:06<00:00, 18.43it/s]\n",
            "  2%|▏         | 2/128 [00:00<00:06, 18.41it/s]"
          ],
          "name": "stderr"
        },
        {
          "output_type": "stream",
          "text": [
            "Epoch Number 263\n"
          ],
          "name": "stdout"
        },
        {
          "output_type": "stream",
          "text": [
            "100%|██████████| 128/128 [00:07<00:00, 18.03it/s]\n",
            "  2%|▏         | 2/128 [00:00<00:07, 17.90it/s]"
          ],
          "name": "stderr"
        },
        {
          "output_type": "stream",
          "text": [
            "Epoch Number 264\n"
          ],
          "name": "stdout"
        },
        {
          "output_type": "stream",
          "text": [
            "100%|██████████| 128/128 [00:06<00:00, 18.35it/s]\n",
            "  2%|▏         | 2/128 [00:00<00:07, 16.69it/s]"
          ],
          "name": "stderr"
        },
        {
          "output_type": "stream",
          "text": [
            "Epoch Number 265\n"
          ],
          "name": "stdout"
        },
        {
          "output_type": "stream",
          "text": [
            "100%|██████████| 128/128 [00:06<00:00, 18.31it/s]\n",
            "  2%|▏         | 2/128 [00:00<00:07, 17.52it/s]"
          ],
          "name": "stderr"
        },
        {
          "output_type": "stream",
          "text": [
            "Epoch Number 266\n"
          ],
          "name": "stdout"
        },
        {
          "output_type": "stream",
          "text": [
            "100%|██████████| 128/128 [00:06<00:00, 18.35it/s]\n",
            "  2%|▏         | 2/128 [00:00<00:06, 18.45it/s]"
          ],
          "name": "stderr"
        },
        {
          "output_type": "stream",
          "text": [
            "Epoch Number 267\n"
          ],
          "name": "stdout"
        },
        {
          "output_type": "stream",
          "text": [
            "100%|██████████| 128/128 [00:06<00:00, 18.40it/s]\n",
            "  2%|▏         | 2/128 [00:00<00:07, 17.53it/s]"
          ],
          "name": "stderr"
        },
        {
          "output_type": "stream",
          "text": [
            "Epoch Number 268\n"
          ],
          "name": "stdout"
        },
        {
          "output_type": "stream",
          "text": [
            "100%|██████████| 128/128 [00:07<00:00, 18.00it/s]\n",
            "  2%|▏         | 2/128 [00:00<00:06, 19.01it/s]"
          ],
          "name": "stderr"
        },
        {
          "output_type": "stream",
          "text": [
            "Epoch Number 269\n"
          ],
          "name": "stdout"
        },
        {
          "output_type": "stream",
          "text": [
            "100%|██████████| 128/128 [00:07<00:00, 18.23it/s]\n",
            "  2%|▏         | 2/128 [00:00<00:07, 17.05it/s]"
          ],
          "name": "stderr"
        },
        {
          "output_type": "stream",
          "text": [
            "Epoch Number 270\n"
          ],
          "name": "stdout"
        },
        {
          "output_type": "stream",
          "text": [
            "100%|██████████| 128/128 [00:07<00:00, 17.76it/s]\n",
            "  2%|▏         | 2/128 [00:00<00:07, 16.41it/s]"
          ],
          "name": "stderr"
        },
        {
          "output_type": "stream",
          "text": [
            "Epoch Number 271\n"
          ],
          "name": "stdout"
        },
        {
          "output_type": "stream",
          "text": [
            "100%|██████████| 128/128 [00:07<00:00, 17.71it/s]\n",
            "  2%|▏         | 2/128 [00:00<00:07, 17.50it/s]"
          ],
          "name": "stderr"
        },
        {
          "output_type": "stream",
          "text": [
            "Epoch Number 272\n"
          ],
          "name": "stdout"
        },
        {
          "output_type": "stream",
          "text": [
            "100%|██████████| 128/128 [00:07<00:00, 18.28it/s]\n",
            "  2%|▏         | 2/128 [00:00<00:07, 17.74it/s]"
          ],
          "name": "stderr"
        },
        {
          "output_type": "stream",
          "text": [
            "Epoch Number 273\n"
          ],
          "name": "stdout"
        },
        {
          "output_type": "stream",
          "text": [
            "100%|██████████| 128/128 [00:06<00:00, 18.47it/s]\n",
            "  2%|▏         | 2/128 [00:00<00:06, 18.04it/s]"
          ],
          "name": "stderr"
        },
        {
          "output_type": "stream",
          "text": [
            "Epoch Number 274\n"
          ],
          "name": "stdout"
        },
        {
          "output_type": "stream",
          "text": [
            "100%|██████████| 128/128 [00:07<00:00, 17.94it/s]\n",
            "  2%|▏         | 2/128 [00:00<00:07, 16.03it/s]"
          ],
          "name": "stderr"
        },
        {
          "output_type": "stream",
          "text": [
            "Epoch Number 275\n"
          ],
          "name": "stdout"
        },
        {
          "output_type": "stream",
          "text": [
            "100%|██████████| 128/128 [00:06<00:00, 18.35it/s]\n",
            "  2%|▏         | 2/128 [00:00<00:07, 17.25it/s]"
          ],
          "name": "stderr"
        },
        {
          "output_type": "stream",
          "text": [
            "Epoch Number 276\n"
          ],
          "name": "stdout"
        },
        {
          "output_type": "stream",
          "text": [
            "100%|██████████| 128/128 [00:06<00:00, 18.33it/s]\n",
            "  2%|▏         | 2/128 [00:00<00:07, 17.77it/s]"
          ],
          "name": "stderr"
        },
        {
          "output_type": "stream",
          "text": [
            "Epoch Number 277\n"
          ],
          "name": "stdout"
        },
        {
          "output_type": "stream",
          "text": [
            "100%|██████████| 128/128 [00:07<00:00, 18.11it/s]\n",
            "  2%|▏         | 2/128 [00:00<00:06, 18.06it/s]"
          ],
          "name": "stderr"
        },
        {
          "output_type": "stream",
          "text": [
            "Epoch Number 278\n"
          ],
          "name": "stdout"
        },
        {
          "output_type": "stream",
          "text": [
            "100%|██████████| 128/128 [00:07<00:00, 18.21it/s]\n",
            "  2%|▏         | 2/128 [00:00<00:07, 17.89it/s]"
          ],
          "name": "stderr"
        },
        {
          "output_type": "stream",
          "text": [
            "Epoch Number 279\n"
          ],
          "name": "stdout"
        },
        {
          "output_type": "stream",
          "text": [
            "100%|██████████| 128/128 [00:07<00:00, 17.90it/s]\n",
            "  2%|▏         | 2/128 [00:00<00:07, 17.80it/s]"
          ],
          "name": "stderr"
        },
        {
          "output_type": "stream",
          "text": [
            "Epoch Number 280\n"
          ],
          "name": "stdout"
        },
        {
          "output_type": "stream",
          "text": [
            "100%|██████████| 128/128 [00:06<00:00, 18.34it/s]\n",
            "  2%|▏         | 2/128 [00:00<00:07, 17.57it/s]"
          ],
          "name": "stderr"
        },
        {
          "output_type": "stream",
          "text": [
            "Epoch Number 281\n"
          ],
          "name": "stdout"
        },
        {
          "output_type": "stream",
          "text": [
            "100%|██████████| 128/128 [00:06<00:00, 18.38it/s]\n",
            "  2%|▏         | 2/128 [00:00<00:07, 17.79it/s]"
          ],
          "name": "stderr"
        },
        {
          "output_type": "stream",
          "text": [
            "Epoch Number 282\n"
          ],
          "name": "stdout"
        },
        {
          "output_type": "stream",
          "text": [
            "100%|██████████| 128/128 [00:07<00:00, 18.20it/s]\n",
            "  2%|▏         | 2/128 [00:00<00:07, 17.82it/s]"
          ],
          "name": "stderr"
        },
        {
          "output_type": "stream",
          "text": [
            "Epoch Number 283\n"
          ],
          "name": "stdout"
        },
        {
          "output_type": "stream",
          "text": [
            "100%|██████████| 128/128 [00:07<00:00, 18.10it/s]\n",
            "  2%|▏         | 2/128 [00:00<00:07, 16.06it/s]"
          ],
          "name": "stderr"
        },
        {
          "output_type": "stream",
          "text": [
            "Epoch Number 284\n"
          ],
          "name": "stdout"
        },
        {
          "output_type": "stream",
          "text": [
            "100%|██████████| 128/128 [00:07<00:00, 17.97it/s]\n",
            "  2%|▏         | 2/128 [00:00<00:06, 18.32it/s]"
          ],
          "name": "stderr"
        },
        {
          "output_type": "stream",
          "text": [
            "Epoch Number 285\n"
          ],
          "name": "stdout"
        },
        {
          "output_type": "stream",
          "text": [
            "100%|██████████| 128/128 [00:06<00:00, 18.39it/s]\n",
            "  2%|▏         | 2/128 [00:00<00:07, 17.28it/s]"
          ],
          "name": "stderr"
        },
        {
          "output_type": "stream",
          "text": [
            "Epoch Number 286\n"
          ],
          "name": "stdout"
        },
        {
          "output_type": "stream",
          "text": [
            "100%|██████████| 128/128 [00:06<00:00, 18.36it/s]\n",
            "  2%|▏         | 2/128 [00:00<00:07, 17.67it/s]"
          ],
          "name": "stderr"
        },
        {
          "output_type": "stream",
          "text": [
            "Epoch Number 287\n"
          ],
          "name": "stdout"
        },
        {
          "output_type": "stream",
          "text": [
            "100%|██████████| 128/128 [00:06<00:00, 18.30it/s]\n",
            "  2%|▏         | 2/128 [00:00<00:06, 18.28it/s]"
          ],
          "name": "stderr"
        },
        {
          "output_type": "stream",
          "text": [
            "Epoch Number 288\n"
          ],
          "name": "stdout"
        },
        {
          "output_type": "stream",
          "text": [
            "100%|██████████| 128/128 [00:06<00:00, 18.33it/s]\n",
            "  2%|▏         | 2/128 [00:00<00:07, 16.77it/s]"
          ],
          "name": "stderr"
        },
        {
          "output_type": "stream",
          "text": [
            "Epoch Number 289\n"
          ],
          "name": "stdout"
        },
        {
          "output_type": "stream",
          "text": [
            "100%|██████████| 128/128 [00:07<00:00, 17.97it/s]\n",
            "  2%|▏         | 2/128 [00:00<00:07, 16.91it/s]"
          ],
          "name": "stderr"
        },
        {
          "output_type": "stream",
          "text": [
            "Epoch Number 290\n"
          ],
          "name": "stdout"
        },
        {
          "output_type": "stream",
          "text": [
            "100%|██████████| 128/128 [00:07<00:00, 18.28it/s]\n",
            "  2%|▏         | 2/128 [00:00<00:08, 15.60it/s]"
          ],
          "name": "stderr"
        },
        {
          "output_type": "stream",
          "text": [
            "Epoch Number 291\n"
          ],
          "name": "stdout"
        },
        {
          "output_type": "stream",
          "text": [
            "100%|██████████| 128/128 [00:07<00:00, 18.25it/s]\n",
            "  2%|▏         | 2/128 [00:00<00:07, 17.13it/s]"
          ],
          "name": "stderr"
        },
        {
          "output_type": "stream",
          "text": [
            "Epoch Number 292\n"
          ],
          "name": "stdout"
        },
        {
          "output_type": "stream",
          "text": [
            "100%|██████████| 128/128 [00:07<00:00, 18.27it/s]\n",
            "  2%|▏         | 2/128 [00:00<00:06, 18.04it/s]"
          ],
          "name": "stderr"
        },
        {
          "output_type": "stream",
          "text": [
            "Epoch Number 293\n"
          ],
          "name": "stdout"
        },
        {
          "output_type": "stream",
          "text": [
            "100%|██████████| 128/128 [00:07<00:00, 18.15it/s]\n",
            "  2%|▏         | 2/128 [00:00<00:07, 17.04it/s]"
          ],
          "name": "stderr"
        },
        {
          "output_type": "stream",
          "text": [
            "Epoch Number 294\n"
          ],
          "name": "stdout"
        },
        {
          "output_type": "stream",
          "text": [
            "100%|██████████| 128/128 [00:07<00:00, 18.13it/s]\n",
            "  2%|▏         | 2/128 [00:00<00:07, 17.61it/s]"
          ],
          "name": "stderr"
        },
        {
          "output_type": "stream",
          "text": [
            "Epoch Number 295\n"
          ],
          "name": "stdout"
        },
        {
          "output_type": "stream",
          "text": [
            "100%|██████████| 128/128 [00:07<00:00, 17.78it/s]\n",
            "  2%|▏         | 2/128 [00:00<00:07, 17.50it/s]"
          ],
          "name": "stderr"
        },
        {
          "output_type": "stream",
          "text": [
            "Epoch Number 296\n"
          ],
          "name": "stdout"
        },
        {
          "output_type": "stream",
          "text": [
            "100%|██████████| 128/128 [00:07<00:00, 18.20it/s]\n",
            "  2%|▏         | 2/128 [00:00<00:07, 16.68it/s]"
          ],
          "name": "stderr"
        },
        {
          "output_type": "stream",
          "text": [
            "Epoch Number 297\n"
          ],
          "name": "stdout"
        },
        {
          "output_type": "stream",
          "text": [
            "100%|██████████| 128/128 [00:07<00:00, 18.21it/s]\n",
            "  2%|▏         | 2/128 [00:00<00:07, 17.44it/s]"
          ],
          "name": "stderr"
        },
        {
          "output_type": "stream",
          "text": [
            "Epoch Number 298\n"
          ],
          "name": "stdout"
        },
        {
          "output_type": "stream",
          "text": [
            "100%|██████████| 128/128 [00:07<00:00, 18.19it/s]\n",
            "  2%|▏         | 2/128 [00:00<00:07, 17.45it/s]"
          ],
          "name": "stderr"
        },
        {
          "output_type": "stream",
          "text": [
            "Epoch Number 299\n"
          ],
          "name": "stdout"
        },
        {
          "output_type": "stream",
          "text": [
            "100%|██████████| 128/128 [00:06<00:00, 18.34it/s]\n"
          ],
          "name": "stderr"
        }
      ]
    },
    {
      "cell_type": "code",
      "metadata": {
        "id": "X09VUpXf0eoR"
      },
      "source": [
        "generated_images = generator.predict(noise)"
      ],
      "execution_count": 12,
      "outputs": []
    },
    {
      "cell_type": "code",
      "metadata": {
        "id": "Hg-rY10aCodV"
      },
      "source": [
        "x =generated_images[0].reshape(28,28)"
      ],
      "execution_count": 13,
      "outputs": []
    },
    {
      "cell_type": "code",
      "metadata": {
        "colab": {
          "base_uri": "https://localhost:8080/",
          "height": 282
        },
        "id": "cTU4r-GxCqCa",
        "outputId": "106a00f7-ebf9-4d75-e3e3-a5f4c5b34d41"
      },
      "source": [
        "plt.imshow(x, cmap =\"Greys\")"
      ],
      "execution_count": 17,
      "outputs": [
        {
          "output_type": "execute_result",
          "data": {
            "text/plain": [
              "<matplotlib.image.AxesImage at 0x7ffaa03b4c18>"
            ]
          },
          "metadata": {
            "tags": []
          },
          "execution_count": 17
        },
        {
          "output_type": "display_data",
          "data": {
            "image/png": "[encoded data removed]",
            "text/plain": [
              "<Figure size 432x288 with 1 Axes>"
            ]
          },
          "metadata": {
            "tags": [],
            "needs_background": "light"
          }
        }
      ]
    },
    {
      "cell_type": "code",
      "metadata": {
        "id": "6Yvs7BdCCriB"
      },
      "source": [
        ""
      ],
      "execution_count": null,
      "outputs": []
    }
  ]
}